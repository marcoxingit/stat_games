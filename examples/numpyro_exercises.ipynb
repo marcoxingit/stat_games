{
 "cells": [
  {
   "cell_type": "code",
   "execution_count": 1,
   "metadata": {},
   "outputs": [],
   "source": [
    "import numpyro.distributions as dist "
   ]
  },
  {
   "cell_type": "code",
   "execution_count": 2,
   "metadata": {},
   "outputs": [],
   "source": [
    "normal_channel = dist.Normal"
   ]
  },
  {
   "cell_type": "code",
   "execution_count": 4,
   "metadata": {},
   "outputs": [],
   "source": [
    "normal_dist = normal_channel((0,1))"
   ]
  },
  {
   "cell_type": "code",
   "execution_count": 18,
   "metadata": {},
   "outputs": [],
   "source": [
    "from dataclasses import dataclass, field\n",
    "from typing import Optional\n",
    "from discopy.cat import Category\n",
    "from discopy.markov import Ty, Box\n",
    "import numpyro.distributions as dist  # NumPyro's distributions\n",
    "from functools import partial\n",
    "\n",
    "# Define some basic types.\n",
    "R = Ty(\"R\")\n",
    "N = Ty(\"N\")\n",
    "\n",
    "# Extend Box to include a probabilistic distribution.\n",
    "from discopy.markov import Ty\n",
    "import numpyro.distributions as dist\n",
    "\n",
    "# Define domain and codomain types\n",
    "dom = Ty('A')\n",
    "cod = Ty('B')\n",
    "\n",
    "# Define the distribution\n",
    "from discopy.markov import Ty, Box\n",
    "import numpyro.distributions as dist\n",
    "from dataclasses import dataclass\n",
    "from typing import Optional\n",
    "\n",
    "@dataclass\n",
    "class ProbBox(Box):\n",
    "    distribution: Optional[dist.Distribution] = None\n",
    "\n",
    "    def __init__(self, name: str, dom: Ty, cod: Ty, distribution: Optional[dist.Distribution] = None):\n",
    "        super().__init__(name, dom, cod)  # Call Box's constructor\n",
    "        self.distribution = distribution  # Set the distribution attribute\n",
    "\n",
    "# Define domain and codomain types\n",
    "dom = Ty('A')\n",
    "cod = Ty('A')\n",
    "\n",
    "# Define the distribution\n",
    "distribution = dist.Normal(0, 1)\n",
    "\n",
    "# Initialize the ProbBox\n",
    "prob_box = ProbBox(name='my_prob_box', dom=dom, cod=cod, distribution=distribution)\n"
   ]
  },
  {
   "cell_type": "code",
   "execution_count": null,
   "metadata": {},
   "outputs": [],
   "source": [
    "from functools import partial"
   ]
  },
  {
   "cell_type": "code",
   "execution_count": 38,
   "metadata": {},
   "outputs": [
    {
     "name": "stdout",
     "output_type": "stream",
     "text": [
      "-5.4189386\n"
     ]
    }
   ],
   "source": [
    "from functools import partial\n",
    "import numpyro.distributions as dist\n",
    "\n",
    "normal_channel = dist.Normal\n",
    "# Define a function that takes positional arguments (e.g. loc, scale)\n",
    "log_prob = lambda *params: normal_channel(*params).log_prob\n",
    "\n",
    "# Now, log_prob(0, 1) returns a function that takes one argument (the value to evaluate)\n",
    "print(log_prob(0, 1)(3))  # computes log_prob(3) for Normal(0, 1)\n"
   ]
  },
  {
   "cell_type": "code",
   "execution_count": 37,
   "metadata": {},
   "outputs": [
    {
     "ename": "TypeError",
     "evalue": "<lambda>() takes 1 positional argument but 2 were given",
     "output_type": "error",
     "traceback": [
      "\u001b[0;31m---------------------------------------------------------------------------\u001b[0m",
      "\u001b[0;31mTypeError\u001b[0m                                 Traceback (most recent call last)",
      "Cell \u001b[0;32mIn[37], line 9\u001b[0m\n\u001b[1;32m      6\u001b[0m log_prob \u001b[38;5;241m=\u001b[39m partial(\u001b[38;5;28;01mlambda\u001b[39;00m x: normal_channel(\u001b[38;5;241m*\u001b[39mx)\u001b[38;5;241m.\u001b[39mlog_prob)\n\u001b[1;32m      8\u001b[0m \u001b[38;5;66;03m# This creates a function log_prob(0,1) that returns a function taking one argument.\u001b[39;00m\n\u001b[0;32m----> 9\u001b[0m \u001b[38;5;28mprint\u001b[39m(\u001b[43mlog_prob\u001b[49m\u001b[43m(\u001b[49m\u001b[38;5;241;43m0\u001b[39;49m\u001b[43m,\u001b[49m\u001b[43m \u001b[49m\u001b[38;5;241;43m1\u001b[39;49m\u001b[43m)\u001b[49m(\u001b[38;5;241m3\u001b[39m))  \u001b[38;5;66;03m# now works: computes log_prob(3) for Normal(0,1)\u001b[39;00m\n",
      "\u001b[0;31mTypeError\u001b[0m: <lambda>() takes 1 positional argument but 2 were given"
     ]
    }
   ],
   "source": [
    "from functools import partial\n",
    "import numpyro.distributions as dist\n",
    "\n",
    "normal_channel = dist.Normal\n",
    "# Correct lambda: note that x and y are passed as separate arguments.\n",
    "log_prob = partial(lambda x: normal_channel(*x).log_prob)\n",
    "\n",
    "# This creates a function log_prob(0,1) that returns a function taking one argument.\n",
    "print(log_prob(0, 1)(3))  # now works: computes log_prob(3) for Normal(0,1)\n"
   ]
  },
  {
   "cell_type": "code",
   "execution_count": 44,
   "metadata": {},
   "outputs": [],
   "source": [
    "f1 = partial(lambda x: normal_channel(*x).log_prob)\n",
    "f2 = partial(lambda x: normal_channel(*x).log_prob)"
   ]
  },
  {
   "cell_type": "code",
   "execution_count": 50,
   "metadata": {},
   "outputs": [
    {
     "ename": "TypeError",
     "evalue": "numpyro.distributions.continuous.Normal() argument after * must be an iterable, not float",
     "output_type": "error",
     "traceback": [
      "\u001b[0;31m---------------------------------------------------------------------------\u001b[0m",
      "\u001b[0;31mTypeError\u001b[0m                                 Traceback (most recent call last)",
      "Cell \u001b[0;32mIn[50], line 1\u001b[0m\n\u001b[0;32m----> 1\u001b[0m \u001b[43mpartial\u001b[49m\u001b[43m(\u001b[49m\u001b[38;5;28;43;01mlambda\u001b[39;49;00m\u001b[43m \u001b[49m\u001b[43mx\u001b[49m\u001b[43m \u001b[49m\u001b[43m:\u001b[49m\u001b[43m  \u001b[49m\u001b[43mf1\u001b[49m\u001b[43m(\u001b[49m\u001b[43mx\u001b[49m\u001b[43m)\u001b[49m\u001b[43m \u001b[49m\u001b[38;5;241;43m+\u001b[39;49m\u001b[43m \u001b[49m\u001b[43mf2\u001b[49m\u001b[43m(\u001b[49m\u001b[43mx\u001b[49m\u001b[43m)\u001b[49m\u001b[43m)\u001b[49m\u001b[43m(\u001b[49m\u001b[38;5;241;43m0.1\u001b[39;49m\u001b[43m)\u001b[49m\n",
      "Cell \u001b[0;32mIn[50], line 1\u001b[0m, in \u001b[0;36m<lambda>\u001b[0;34m(x)\u001b[0m\n\u001b[0;32m----> 1\u001b[0m partial(\u001b[38;5;28;01mlambda\u001b[39;00m x :  \u001b[43mf1\u001b[49m\u001b[43m(\u001b[49m\u001b[43mx\u001b[49m\u001b[43m)\u001b[49m \u001b[38;5;241m+\u001b[39m f2(x))(\u001b[38;5;241m0.1\u001b[39m)\n",
      "Cell \u001b[0;32mIn[44], line 1\u001b[0m, in \u001b[0;36m<lambda>\u001b[0;34m(x)\u001b[0m\n\u001b[0;32m----> 1\u001b[0m f1 \u001b[38;5;241m=\u001b[39m partial(\u001b[38;5;28;01mlambda\u001b[39;00m x: \u001b[43mnormal_channel\u001b[49m\u001b[43m(\u001b[49m\u001b[38;5;241;43m*\u001b[39;49m\u001b[43mx\u001b[49m\u001b[43m)\u001b[49m\u001b[38;5;241m.\u001b[39mlog_prob)\n\u001b[1;32m      2\u001b[0m f2 \u001b[38;5;241m=\u001b[39m partial(\u001b[38;5;28;01mlambda\u001b[39;00m x: normal_channel(\u001b[38;5;241m*\u001b[39mx)\u001b[38;5;241m.\u001b[39mlog_prob)\n",
      "\u001b[0;31mTypeError\u001b[0m: numpyro.distributions.continuous.Normal() argument after * must be an iterable, not float"
     ]
    }
   ],
   "source": [
    "partial(lambda x :  f1(x) + f2(x))(0.1)"
   ]
  },
  {
   "cell_type": "code",
   "execution_count": null,
   "metadata": {},
   "outputs": [
    {
     "ename": "TypeError",
     "evalue": "unsupported operand type(s) for -: 'int' and 'tuple'",
     "output_type": "error",
     "traceback": [
      "\u001b[0;31m---------------------------------------------------------------------------\u001b[0m",
      "\u001b[0;31mTypeError\u001b[0m                                 Traceback (most recent call last)",
      "Cell \u001b[0;32mIn[31], line 1\u001b[0m\n\u001b[0;32m----> 1\u001b[0m \u001b[43mlog_prob\u001b[49m\u001b[43m(\u001b[49m\u001b[38;5;241;43m0\u001b[39;49m\u001b[43m,\u001b[49m\u001b[38;5;241;43m1\u001b[39;49m\u001b[43m)\u001b[49m\u001b[43m(\u001b[49m\u001b[38;5;241;43m3\u001b[39;49m\u001b[43m)\u001b[49m\n",
      "File \u001b[0;32m/opt/miniconda3/envs/blr/lib/python3.12/site-packages/numpyro/distributions/util.py:764\u001b[0m, in \u001b[0;36mvalidate_sample.<locals>.wrapper\u001b[0;34m(self, *args, **kwargs)\u001b[0m\n\u001b[1;32m    763\u001b[0m \u001b[38;5;28;01mdef\u001b[39;00m \u001b[38;5;21mwrapper\u001b[39m(\u001b[38;5;28mself\u001b[39m, \u001b[38;5;241m*\u001b[39margs, \u001b[38;5;241m*\u001b[39m\u001b[38;5;241m*\u001b[39mkwargs):\n\u001b[0;32m--> 764\u001b[0m     log_prob \u001b[38;5;241m=\u001b[39m \u001b[43mlog_prob_fn\u001b[49m\u001b[43m(\u001b[49m\u001b[38;5;28;43mself\u001b[39;49m\u001b[43m,\u001b[49m\u001b[43m \u001b[49m\u001b[38;5;241;43m*\u001b[39;49m\u001b[43margs\u001b[49m\u001b[43m,\u001b[49m\u001b[43m \u001b[49m\u001b[38;5;241;43m*\u001b[39;49m\u001b[38;5;241;43m*\u001b[39;49m\u001b[43mkwargs\u001b[49m\u001b[43m)\u001b[49m\n\u001b[1;32m    765\u001b[0m     \u001b[38;5;28;01mif\u001b[39;00m \u001b[38;5;28mself\u001b[39m\u001b[38;5;241m.\u001b[39m_validate_args:\n\u001b[1;32m    766\u001b[0m         value \u001b[38;5;241m=\u001b[39m kwargs[\u001b[38;5;124m\"\u001b[39m\u001b[38;5;124mvalue\u001b[39m\u001b[38;5;124m\"\u001b[39m] \u001b[38;5;28;01mif\u001b[39;00m \u001b[38;5;124m\"\u001b[39m\u001b[38;5;124mvalue\u001b[39m\u001b[38;5;124m\"\u001b[39m \u001b[38;5;129;01min\u001b[39;00m kwargs \u001b[38;5;28;01melse\u001b[39;00m args[\u001b[38;5;241m0\u001b[39m]\n",
      "File \u001b[0;32m/opt/miniconda3/envs/blr/lib/python3.12/site-packages/numpyro/distributions/continuous.py:2200\u001b[0m, in \u001b[0;36mNormal.log_prob\u001b[0;34m(self, value)\u001b[0m\n\u001b[1;32m   2197\u001b[0m \u001b[38;5;129m@validate_sample\u001b[39m\n\u001b[1;32m   2198\u001b[0m \u001b[38;5;28;01mdef\u001b[39;00m \u001b[38;5;21mlog_prob\u001b[39m(\u001b[38;5;28mself\u001b[39m, value):\n\u001b[1;32m   2199\u001b[0m     normalize_term \u001b[38;5;241m=\u001b[39m jnp\u001b[38;5;241m.\u001b[39mlog(jnp\u001b[38;5;241m.\u001b[39msqrt(\u001b[38;5;241m2\u001b[39m \u001b[38;5;241m*\u001b[39m jnp\u001b[38;5;241m.\u001b[39mpi) \u001b[38;5;241m*\u001b[39m \u001b[38;5;28mself\u001b[39m\u001b[38;5;241m.\u001b[39mscale)\n\u001b[0;32m-> 2200\u001b[0m     value_scaled \u001b[38;5;241m=\u001b[39m (\u001b[43mvalue\u001b[49m\u001b[43m \u001b[49m\u001b[38;5;241;43m-\u001b[39;49m\u001b[43m \u001b[49m\u001b[38;5;28;43mself\u001b[39;49m\u001b[38;5;241;43m.\u001b[39;49m\u001b[43mloc\u001b[49m) \u001b[38;5;241m/\u001b[39m \u001b[38;5;28mself\u001b[39m\u001b[38;5;241m.\u001b[39mscale\n\u001b[1;32m   2201\u001b[0m     \u001b[38;5;28;01mreturn\u001b[39;00m \u001b[38;5;241m-\u001b[39m\u001b[38;5;241m0.5\u001b[39m \u001b[38;5;241m*\u001b[39m value_scaled\u001b[38;5;241m*\u001b[39m\u001b[38;5;241m*\u001b[39m\u001b[38;5;241m2\u001b[39m \u001b[38;5;241m-\u001b[39m normalize_term\n",
      "\u001b[0;31mTypeError\u001b[0m: unsupported operand type(s) for -: 'int' and 'tuple'"
     ]
    }
   ],
   "source": []
  },
  {
   "cell_type": "code",
   "execution_count": 20,
   "metadata": {},
   "outputs": [],
   "source": [
    "new = (prob_box >> prob_box)"
   ]
  },
  {
   "cell_type": "code",
   "execution_count": 22,
   "metadata": {},
   "outputs": [
    {
     "ename": "AttributeError",
     "evalue": "'Diagram' object has no attribute 'distribution'",
     "output_type": "error",
     "traceback": [
      "\u001b[0;31m---------------------------------------------------------------------------\u001b[0m",
      "\u001b[0;31mAttributeError\u001b[0m                            Traceback (most recent call last)",
      "Cell \u001b[0;32mIn[22], line 1\u001b[0m\n\u001b[0;32m----> 1\u001b[0m \u001b[43mnew\u001b[49m\u001b[38;5;241;43m.\u001b[39;49m\u001b[43mdistribution\u001b[49m\n",
      "\u001b[0;31mAttributeError\u001b[0m: 'Diagram' object has no attribute 'distribution'"
     ]
    }
   ],
   "source": [
    "new.distribution"
   ]
  },
  {
   "cell_type": "code",
   "execution_count": null,
   "metadata": {},
   "outputs": [
    {
     "ename": "TypeError",
     "evalue": "ProbBox.__init__() got an unexpected keyword argument 'name'",
     "output_type": "error",
     "traceback": [
      "\u001b[0;31m---------------------------------------------------------------------------\u001b[0m",
      "\u001b[0;31mTypeError\u001b[0m                                 Traceback (most recent call last)",
      "Cell \u001b[0;32mIn[14], line 12\u001b[0m\n\u001b[1;32m      9\u001b[0m distribution \u001b[38;5;241m=\u001b[39m dist\u001b[38;5;241m.\u001b[39mNormal(\u001b[38;5;241m0\u001b[39m, \u001b[38;5;241m1\u001b[39m)\n\u001b[1;32m     11\u001b[0m \u001b[38;5;66;03m# Initialize the ProbBox\u001b[39;00m\n\u001b[0;32m---> 12\u001b[0m prob_box \u001b[38;5;241m=\u001b[39m \u001b[43mProbBox\u001b[49m\u001b[43m(\u001b[49m\u001b[43mname\u001b[49m\u001b[38;5;241;43m=\u001b[39;49m\u001b[38;5;124;43m'\u001b[39;49m\u001b[38;5;124;43mmy_prob_box\u001b[39;49m\u001b[38;5;124;43m'\u001b[39;49m\u001b[43m,\u001b[49m\u001b[43m \u001b[49m\u001b[43mdom\u001b[49m\u001b[38;5;241;43m=\u001b[39;49m\u001b[43mdom\u001b[49m\u001b[43m,\u001b[49m\u001b[43m \u001b[49m\u001b[43mcod\u001b[49m\u001b[38;5;241;43m=\u001b[39;49m\u001b[43mcod\u001b[49m\u001b[43m,\u001b[49m\u001b[43m \u001b[49m\u001b[43mdistribution\u001b[49m\u001b[38;5;241;43m=\u001b[39;49m\u001b[43mdistribution\u001b[49m\u001b[43m)\u001b[49m\n",
      "\u001b[0;31mTypeError\u001b[0m: ProbBox.__init__() got an unexpected keyword argument 'name'"
     ]
    }
   ],
   "source": [
    "from discopy.markov import Ty\n",
    "import numpyro.distributions as dist\n",
    "\n",
    "# Define domain and codomain types\n",
    "dom = Ty('A')\n",
    "cod = Ty('B')\n",
    "\n",
    "# Define the distribution\n",
    "distribution = dist.Normal(0, 1)\n",
    "\n",
    "# Initialize the ProbBox\n",
    "prob_box = ProbBox(name='my_prob_box', dom=dom, cod=cod, distribution=distribution)\n"
   ]
  }
 ],
 "metadata": {
  "kernelspec": {
   "display_name": "blr",
   "language": "python",
   "name": "python3"
  },
  "language_info": {
   "codemirror_mode": {
    "name": "ipython",
    "version": 3
   },
   "file_extension": ".py",
   "mimetype": "text/x-python",
   "name": "python",
   "nbconvert_exporter": "python",
   "pygments_lexer": "ipython3",
   "version": "3.12.6"
  }
 },
 "nbformat": 4,
 "nbformat_minor": 2
}
