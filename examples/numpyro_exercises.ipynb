{
 "cells": [
  {
   "cell_type": "code",
   "execution_count": 1,
   "metadata": {},
   "outputs": [],
   "source": [
    "import numpyro.distributions as dist "
   ]
  },
  {
   "cell_type": "code",
   "execution_count": 2,
   "metadata": {},
   "outputs": [],
   "source": [
    "normal_channel = dist.Normal"
   ]
  },
  {
   "cell_type": "code",
   "execution_count": 3,
   "metadata": {},
   "outputs": [],
   "source": [
    "normal_dist = normal_channel((0,1))"
   ]
  },
  {
   "cell_type": "code",
   "execution_count": 4,
   "metadata": {},
   "outputs": [
    {
     "data": {
      "text/plain": [
       "<numpyro.distributions.distribution.Delta object at 0x111ec1f10 with batch shape () and event shape (3,)>"
      ]
     },
     "execution_count": 4,
     "metadata": {},
     "output_type": "execute_result"
    }
   ],
   "source": [
    "dist.Delta(v=(5.0, 5.0, 5.0), event_dim=1)\n"
   ]
  },
  {
   "cell_type": "code",
   "execution_count": 5,
   "metadata": {},
   "outputs": [],
   "source": [
    "from dataclasses import dataclass, field\n",
    "from typing import Optional\n",
    "from discopy.cat import Category\n",
    "from discopy.markov import Ty, Box\n",
    "import numpyro.distributions as dist  # NumPyro's distributions\n",
    "from functools import partial\n",
    "\n",
    "# Define some basic types.\n",
    "R = Ty(\"R\")\n",
    "N = Ty(\"N\")\n",
    "\n",
    "# Extend Box to include a probabilistic distribution.\n",
    "from discopy.markov import Ty\n",
    "import numpyro.distributions as dist\n",
    "\n",
    "# Define domain and codomain types\n",
    "dom = Ty('A')\n",
    "cod = Ty('B')\n",
    "\n",
    "# Define the distribution\n",
    "from discopy.markov import Ty, Box\n",
    "import numpyro.distributions as dist\n",
    "from dataclasses import dataclass\n",
    "from typing import Optional\n",
    "\n",
    "@dataclass\n",
    "class ProbBox(Box):\n",
    "    distribution: Optional[dist.Distribution] = None\n",
    "\n",
    "    def __init__(self, name: str, dom: Ty, cod: Ty, distribution: Optional[dist.Distribution] = None):\n",
    "        super().__init__(name, dom, cod)  # Call Box's constructor\n",
    "        self.distribution = distribution  # Set the distribution attribute\n",
    "\n",
    "# Define domain and codomain types\n",
    "dom = Ty('A')\n",
    "cod = Ty('A')\n",
    "\n",
    "# Define the distribution\n",
    "distribution = dist.Normal(0, 1)\n",
    "\n",
    "# Initialize the ProbBox\n",
    "prob_box = ProbBox(name='my_prob_box', dom=dom, cod=cod, distribution=distribution)\n"
   ]
  },
  {
   "cell_type": "code",
   "execution_count": 6,
   "metadata": {},
   "outputs": [],
   "source": [
    "from functools import partial"
   ]
  },
  {
   "cell_type": "code",
   "execution_count": 7,
   "metadata": {},
   "outputs": [
    {
     "name": "stdout",
     "output_type": "stream",
     "text": [
      "-5.4189386\n"
     ]
    }
   ],
   "source": [
    "from functools import partial\n",
    "import numpyro.distributions as dist\n",
    "\n",
    "normal_channel = dist.Normal\n",
    "# Define a function that takes positional arguments (e.g. loc, scale)\n",
    "log_prob = lambda *params: normal_channel(*params).log_prob\n",
    "\n",
    "# Now, log_prob(0, 1) returns a function that takes one argument (the value to evaluate)\n",
    "print(log_prob(0, 1)(3))  # computes log_prob(3) for Normal(0, 1)\n"
   ]
  },
  {
   "cell_type": "code",
   "execution_count": 8,
   "metadata": {},
   "outputs": [
    {
     "ename": "TypeError",
     "evalue": "<lambda>() takes 1 positional argument but 2 were given",
     "output_type": "error",
     "traceback": [
      "\u001b[0;31m---------------------------------------------------------------------------\u001b[0m",
      "\u001b[0;31mTypeError\u001b[0m                                 Traceback (most recent call last)",
      "Cell \u001b[0;32mIn[8], line 9\u001b[0m\n\u001b[1;32m      6\u001b[0m log_prob \u001b[38;5;241m=\u001b[39m partial(\u001b[38;5;28;01mlambda\u001b[39;00m x: normal_channel(\u001b[38;5;241m*\u001b[39mx)\u001b[38;5;241m.\u001b[39mlog_prob)\n\u001b[1;32m      8\u001b[0m \u001b[38;5;66;03m# This creates a function log_prob(0,1) that returns a function taking one argument.\u001b[39;00m\n\u001b[0;32m----> 9\u001b[0m \u001b[38;5;28mprint\u001b[39m(\u001b[43mlog_prob\u001b[49m\u001b[43m(\u001b[49m\u001b[38;5;241;43m0\u001b[39;49m\u001b[43m,\u001b[49m\u001b[43m \u001b[49m\u001b[38;5;241;43m1\u001b[39;49m\u001b[43m)\u001b[49m(\u001b[38;5;241m3\u001b[39m))  \u001b[38;5;66;03m# now works: computes log_prob(3) for Normal(0,1)\u001b[39;00m\n",
      "\u001b[0;31mTypeError\u001b[0m: <lambda>() takes 1 positional argument but 2 were given"
     ]
    }
   ],
   "source": [
    "from functools import partial\n",
    "import numpyro.distributions as dist\n",
    "\n",
    "normal_channel = dist.Normal\n",
    "# Correct lambda: note that x and y are passed as separate arguments.\n",
    "log_prob = partial(lambda x: normal_channel(*x).log_prob)\n",
    "\n",
    "# This creates a function log_prob(0,1) that returns a function taking one argument.\n",
    "print(log_prob(0, 1)(3))  # now works: computes log_prob(3) for Normal(0,1)\n"
   ]
  },
  {
   "cell_type": "code",
   "execution_count": null,
   "metadata": {},
   "outputs": [],
   "source": [
    "f1 = partial(lambda x: normal_channel(*x).log_prob)\n",
    "f2 = partial(lambda x: normal_channel(*x).log_prob)"
   ]
  },
  {
   "cell_type": "code",
   "execution_count": null,
   "metadata": {},
   "outputs": [
    {
     "data": {
      "text/plain": [
       "Array(-5.4189386, dtype=float32, weak_type=True)"
      ]
     },
     "execution_count": 51,
     "metadata": {},
     "output_type": "execute_result"
    }
   ],
   "source": [
    "def channelize_log_prob(dist):\n",
    "    return lambda *x: partial(dist(*x).log_prob)\n",
    "\n",
    "channelize_log_prob(normal_channel)(0, 1)(3)  # computes log_prob(3) for Normal(0, 1)"
   ]
  },
  {
   "cell_type": "code",
   "execution_count": null,
   "metadata": {},
   "outputs": [
    {
     "ename": "TypeError",
     "evalue": "unsupported operand type(s) for -: 'int' and 'tuple'",
     "output_type": "error",
     "traceback": [
      "\u001b[0;31m---------------------------------------------------------------------------\u001b[0m",
      "\u001b[0;31mTypeError\u001b[0m                                 Traceback (most recent call last)",
      "Cell \u001b[0;32mIn[31], line 1\u001b[0m\n\u001b[0;32m----> 1\u001b[0m \u001b[43mlog_prob\u001b[49m\u001b[43m(\u001b[49m\u001b[38;5;241;43m0\u001b[39;49m\u001b[43m,\u001b[49m\u001b[38;5;241;43m1\u001b[39;49m\u001b[43m)\u001b[49m\u001b[43m(\u001b[49m\u001b[38;5;241;43m3\u001b[39;49m\u001b[43m)\u001b[49m\n",
      "File \u001b[0;32m/opt/miniconda3/envs/blr/lib/python3.12/site-packages/numpyro/distributions/util.py:764\u001b[0m, in \u001b[0;36mvalidate_sample.<locals>.wrapper\u001b[0;34m(self, *args, **kwargs)\u001b[0m\n\u001b[1;32m    763\u001b[0m \u001b[38;5;28;01mdef\u001b[39;00m \u001b[38;5;21mwrapper\u001b[39m(\u001b[38;5;28mself\u001b[39m, \u001b[38;5;241m*\u001b[39margs, \u001b[38;5;241m*\u001b[39m\u001b[38;5;241m*\u001b[39mkwargs):\n\u001b[0;32m--> 764\u001b[0m     log_prob \u001b[38;5;241m=\u001b[39m \u001b[43mlog_prob_fn\u001b[49m\u001b[43m(\u001b[49m\u001b[38;5;28;43mself\u001b[39;49m\u001b[43m,\u001b[49m\u001b[43m \u001b[49m\u001b[38;5;241;43m*\u001b[39;49m\u001b[43margs\u001b[49m\u001b[43m,\u001b[49m\u001b[43m \u001b[49m\u001b[38;5;241;43m*\u001b[39;49m\u001b[38;5;241;43m*\u001b[39;49m\u001b[43mkwargs\u001b[49m\u001b[43m)\u001b[49m\n\u001b[1;32m    765\u001b[0m     \u001b[38;5;28;01mif\u001b[39;00m \u001b[38;5;28mself\u001b[39m\u001b[38;5;241m.\u001b[39m_validate_args:\n\u001b[1;32m    766\u001b[0m         value \u001b[38;5;241m=\u001b[39m kwargs[\u001b[38;5;124m\"\u001b[39m\u001b[38;5;124mvalue\u001b[39m\u001b[38;5;124m\"\u001b[39m] \u001b[38;5;28;01mif\u001b[39;00m \u001b[38;5;124m\"\u001b[39m\u001b[38;5;124mvalue\u001b[39m\u001b[38;5;124m\"\u001b[39m \u001b[38;5;129;01min\u001b[39;00m kwargs \u001b[38;5;28;01melse\u001b[39;00m args[\u001b[38;5;241m0\u001b[39m]\n",
      "File \u001b[0;32m/opt/miniconda3/envs/blr/lib/python3.12/site-packages/numpyro/distributions/continuous.py:2200\u001b[0m, in \u001b[0;36mNormal.log_prob\u001b[0;34m(self, value)\u001b[0m\n\u001b[1;32m   2197\u001b[0m \u001b[38;5;129m@validate_sample\u001b[39m\n\u001b[1;32m   2198\u001b[0m \u001b[38;5;28;01mdef\u001b[39;00m \u001b[38;5;21mlog_prob\u001b[39m(\u001b[38;5;28mself\u001b[39m, value):\n\u001b[1;32m   2199\u001b[0m     normalize_term \u001b[38;5;241m=\u001b[39m jnp\u001b[38;5;241m.\u001b[39mlog(jnp\u001b[38;5;241m.\u001b[39msqrt(\u001b[38;5;241m2\u001b[39m \u001b[38;5;241m*\u001b[39m jnp\u001b[38;5;241m.\u001b[39mpi) \u001b[38;5;241m*\u001b[39m \u001b[38;5;28mself\u001b[39m\u001b[38;5;241m.\u001b[39mscale)\n\u001b[0;32m-> 2200\u001b[0m     value_scaled \u001b[38;5;241m=\u001b[39m (\u001b[43mvalue\u001b[49m\u001b[43m \u001b[49m\u001b[38;5;241;43m-\u001b[39;49m\u001b[43m \u001b[49m\u001b[38;5;28;43mself\u001b[39;49m\u001b[38;5;241;43m.\u001b[39;49m\u001b[43mloc\u001b[49m) \u001b[38;5;241m/\u001b[39m \u001b[38;5;28mself\u001b[39m\u001b[38;5;241m.\u001b[39mscale\n\u001b[1;32m   2201\u001b[0m     \u001b[38;5;28;01mreturn\u001b[39;00m \u001b[38;5;241m-\u001b[39m\u001b[38;5;241m0.5\u001b[39m \u001b[38;5;241m*\u001b[39m value_scaled\u001b[38;5;241m*\u001b[39m\u001b[38;5;241m*\u001b[39m\u001b[38;5;241m2\u001b[39m \u001b[38;5;241m-\u001b[39m normalize_term\n",
      "\u001b[0;31mTypeError\u001b[0m: unsupported operand type(s) for -: 'int' and 'tuple'"
     ]
    }
   ],
   "source": []
  },
  {
   "cell_type": "code",
   "execution_count": null,
   "metadata": {},
   "outputs": [],
   "source": [
    "new = (prob_box >> prob_box)"
   ]
  },
  {
   "cell_type": "code",
   "execution_count": null,
   "metadata": {},
   "outputs": [
    {
     "ename": "AttributeError",
     "evalue": "'Diagram' object has no attribute 'distribution'",
     "output_type": "error",
     "traceback": [
      "\u001b[0;31m---------------------------------------------------------------------------\u001b[0m",
      "\u001b[0;31mAttributeError\u001b[0m                            Traceback (most recent call last)",
      "Cell \u001b[0;32mIn[22], line 1\u001b[0m\n\u001b[0;32m----> 1\u001b[0m \u001b[43mnew\u001b[49m\u001b[38;5;241;43m.\u001b[39;49m\u001b[43mdistribution\u001b[49m\n",
      "\u001b[0;31mAttributeError\u001b[0m: 'Diagram' object has no attribute 'distribution'"
     ]
    }
   ],
   "source": [
    "new.distribution"
   ]
  },
  {
   "cell_type": "code",
   "execution_count": null,
   "metadata": {},
   "outputs": [
    {
     "ename": "TypeError",
     "evalue": "ProbBox.__init__() got an unexpected keyword argument 'name'",
     "output_type": "error",
     "traceback": [
      "\u001b[0;31m---------------------------------------------------------------------------\u001b[0m",
      "\u001b[0;31mTypeError\u001b[0m                                 Traceback (most recent call last)",
      "Cell \u001b[0;32mIn[14], line 12\u001b[0m\n\u001b[1;32m      9\u001b[0m distribution \u001b[38;5;241m=\u001b[39m dist\u001b[38;5;241m.\u001b[39mNormal(\u001b[38;5;241m0\u001b[39m, \u001b[38;5;241m1\u001b[39m)\n\u001b[1;32m     11\u001b[0m \u001b[38;5;66;03m# Initialize the ProbBox\u001b[39;00m\n\u001b[0;32m---> 12\u001b[0m prob_box \u001b[38;5;241m=\u001b[39m \u001b[43mProbBox\u001b[49m\u001b[43m(\u001b[49m\u001b[43mname\u001b[49m\u001b[38;5;241;43m=\u001b[39;49m\u001b[38;5;124;43m'\u001b[39;49m\u001b[38;5;124;43mmy_prob_box\u001b[39;49m\u001b[38;5;124;43m'\u001b[39;49m\u001b[43m,\u001b[49m\u001b[43m \u001b[49m\u001b[43mdom\u001b[49m\u001b[38;5;241;43m=\u001b[39;49m\u001b[43mdom\u001b[49m\u001b[43m,\u001b[49m\u001b[43m \u001b[49m\u001b[43mcod\u001b[49m\u001b[38;5;241;43m=\u001b[39;49m\u001b[43mcod\u001b[49m\u001b[43m,\u001b[49m\u001b[43m \u001b[49m\u001b[43mdistribution\u001b[49m\u001b[38;5;241;43m=\u001b[39;49m\u001b[43mdistribution\u001b[49m\u001b[43m)\u001b[49m\n",
      "\u001b[0;31mTypeError\u001b[0m: ProbBox.__init__() got an unexpected keyword argument 'name'"
     ]
    }
   ],
   "source": [
    "from discopy.markov import Ty\n",
    "import numpyro.distributions as dist\n",
    "\n",
    "# Define domain and codomain types\n",
    "dom = Ty('A')\n",
    "cod = Ty('B')\n",
    "\n",
    "# Define the distribution\n",
    "distribution = dist.Normal(0, 1)\n",
    "\n",
    "# Initialize the ProbBox\n",
    "prob_box = ProbBox(name='my_prob_box', dom=dom, cod=cod, distribution=distribution)\n"
   ]
  },
  {
   "cell_type": "code",
   "execution_count": 2,
   "metadata": {},
   "outputs": [
    {
     "name": "stdout",
     "output_type": "stream",
     "text": [
      "1 R R\n",
      "1\n",
      "2\n"
     ]
    },
    {
     "data": {
      "image/png": "[encoded data removed]",
      "text/plain": [
       "<Figure size 200x300 with 1 Axes>"
      ]
     },
     "metadata": {},
     "output_type": "display_data"
    }
   ],
   "source": [
    "\n",
    "from stat_games.open_model import OpenModel\n",
    "from discopy.markov import Ty\n",
    "from functools import partial\n",
    "def sum(x,y):\n",
    "        print(y)\n",
    "        return x+y\n",
    "channelized_sum = lambda x: partial(sum,x)\n",
    "R = Ty('R')\n",
    "sum_model = OpenModel(dom=R, cod=R, log_prob_channel=channelized_sum, channel_name=\"sum\")\n",
    "chaining_sums = sum_model >> sum_model\n",
    "sum_model.log_prob_channel(1)\n",
    "chaining_sums.log_prob_channel(1)(1,2)\n",
    "# chaining_sums = chaining_sums >> sum_model\n",
    "chaining_sums.symbolic_channel.draw()\n",
    "# print(chaining_sums.log_prob_channel(1)(1,2,3))"
   ]
  },
  {
   "cell_type": "code",
   "execution_count": 10,
   "metadata": {},
   "outputs": [],
   "source": [
    "from discopy.markov import *\n",
    "import numpyro.distributions as dist \n",
    "x, y = Ty('x'), Ty('y')\n",
    "f = Box('f', x @ x, y)\n",
    "\n",
    "@Diagram.from_callable(x @ x, y)\n",
    "def diagram(a, b):  # Take two wires as inputs\n",
    "    _ = dist.Delta(b)     # Swap, apply f and discard the result.\n",
    "    return f(a, b) "
   ]
  },
  {
   "cell_type": "code",
   "execution_count": 11,
   "metadata": {},
   "outputs": [
    {
     "data": {
      "text/plain": [
       "markov.Diagram(inside=(monoidal.Layer(monoidal.Ty(), markov.Box('f', monoidal.Ty(cat.Ob('x'), cat.Ob('x')), monoidal.Ty(cat.Ob('y'))), monoidal.Ty()),), dom=monoidal.Ty(cat.Ob('x'), cat.Ob('x')), cod=monoidal.Ty(cat.Ob('y')))"
      ]
     },
     "execution_count": 11,
     "metadata": {},
     "output_type": "execute_result"
    }
   ],
   "source": [
    "diagram[0]"
   ]
  },
  {
   "cell_type": "code",
   "execution_count": 34,
   "metadata": {},
   "outputs": [
    {
     "data": {
      "text/plain": [
       "markov.Box('sum', monoidal.Ty(cat.Ob('R')), monoidal.Ty(cat.Ob('R')))"
      ]
     },
     "execution_count": 34,
     "metadata": {},
     "output_type": "execute_result"
    }
   ],
   "source": [
    "sum_model.box_channel"
   ]
  },
  {
   "cell_type": "code",
   "execution_count": null,
   "metadata": {},
   "outputs": [],
   "source": []
  },
  {
   "cell_type": "code",
   "execution_count": null,
   "metadata": {},
   "outputs": [
    {
     "name": "stdout",
     "output_type": "stream",
     "text": [
      "1 R R\n",
      "1.0\n"
     ]
    },
    {
     "data": {
      "image/png": "[encoded data removed]",
      "text/plain": [
       "<Figure size 100x100 with 1 Axes>"
      ]
     },
     "metadata": {},
     "output_type": "display_data"
    }
   ],
   "source": [
    "from discopy.traced import Ty, Box, Category, Functor\n",
    "from discopy import python\n",
    "\n",
    "\n",
    "\n",
    "x = Ty('R')\n",
    "sum = Box('sum', R, R)\n",
    "copy = Box('', x, x @ x, draw_as_spider=True, color=\"black\")\n",
    "\n",
    "x = Ty('$\\\\mathbb{R}$')\n",
    "f = Box('$sum$', x , x          )\n",
    "# >>> g = Box('$\\\\frac{1 + \\\\sqrt{5}}{2}$', Ty(), x)\n",
    "F = Functor(\n",
    "    ob={x: (float, )},\n",
    "    ar={f: lambda x=1.: x},\n",
    "    cod=Category(python.Ty, python.Function))\n",
    "\n",
    "\n",
    "\n",
    "\n",
    "phi = f\n",
    "\n",
    "\n",
    "\n",
    "\n",
    "print(F(phi)(1.0))                   \n",
    "\n",
    "phi.draw()"
   ]
  },
  {
   "cell_type": "code",
   "execution_count": 35,
   "metadata": {},
   "outputs": [
    {
     "data": {
      "text/plain": [
       "markov.Box('sum', monoidal.Ty(cat.Ob('R')), monoidal.Ty(cat.Ob('R')))"
      ]
     },
     "execution_count": 35,
     "metadata": {},
     "output_type": "execute_result"
    }
   ],
   "source": [
    "sum_model.box_channel"
   ]
  },
  {
   "cell_type": "code",
   "execution_count": 2,
   "metadata": {},
   "outputs": [
    {
     "ename": "NameError",
     "evalue": "name 'sum_model' is not defined",
     "output_type": "error",
     "traceback": [
      "\u001b[0;31m---------------------------------------------------------------------------\u001b[0m",
      "\u001b[0;31mNameError\u001b[0m                                 Traceback (most recent call last)",
      "Cell \u001b[0;32mIn[2], line 1\u001b[0m\n\u001b[0;32m----> 1\u001b[0m \u001b[43msum_model\u001b[49m\u001b[38;5;241m.\u001b[39mlog_prob_channel(\u001b[38;5;241m1\u001b[39m)\n",
      "\u001b[0;31mNameError\u001b[0m: name 'sum_model' is not defined"
     ]
    }
   ],
   "source": [
    "sum_model.log_prob_channel(1)"
   ]
  },
  {
   "cell_type": "code",
   "execution_count": 5,
   "metadata": {},
   "outputs": [
    {
     "data": {
      "text/plain": [
       "markov.Box('sum', monoidal.Ty(cat.Ob('R')), monoidal.Ty(cat.Ob('R')))"
      ]
     },
     "execution_count": 5,
     "metadata": {},
     "output_type": "execute_result"
    }
   ],
   "source": [
    "sum_model.box_channel"
   ]
  },
  {
   "cell_type": "code",
   "execution_count": 8,
   "metadata": {},
   "outputs": [
    {
     "name": "stdout",
     "output_type": "stream",
     "text": [
      "1 R R\n",
      "(monoidal.Layer(monoidal.Ty(), markov.Box('sum', monoidal.Ty(cat.Ob('R')), monoidal.Ty(cat.Ob('R'))), monoidal.Ty()),)\n",
      "functools.partial(<function sum at 0x17234d300>, 1.0)\n"
     ]
    }
   ],
   "source": [
    "from discopy.traced import Ty, Box, Category, Functor\n",
    "from discopy import python\n",
    "from stat_games.open_model import OpenModel\n",
    "from discopy.markov import Ty\n",
    "from functools import partial\n",
    "def sum(x,y):\n",
    "        print(y)\n",
    "        return x+y\n",
    "channelized_sum = lambda x: partial(sum,x)\n",
    "R = Ty('R')\n",
    "sum_model = OpenModel(dom=R, cod=R, log_prob_channel=channelized_sum, channel_name=\"sum\")\n",
    "chaining_sums = sum_model >> sum_model\n",
    "sum_model.log_prob_channel(1)\n",
    "\n",
    "x = Ty('R')\n",
    "sum_box = sum_model.box_channel\n",
    "sum_function = sum_model.log_prob_channel\n",
    "copy = Box('', x, x @ x, draw_as_spider=True, color=\"black\")\n",
    "\n",
    "# x = Ty('$\\\\mathbb{R}$')\n",
    "# sum = Box('$sum$', x , x          )\n",
    "# >>> g = Box('$\\\\frac{1 + \\\\sqrt{5}}{2}$', Ty(), x)\n",
    "F = Functor(\n",
    "    ob={x: (float, )},\n",
    "    ar={sum_box: sum_function},\n",
    "    cod=Category(python.Ty, python.Function))\n",
    "\n",
    "\n",
    "\n",
    "\n",
    "phi = sum_box\n",
    "\n",
    "\n",
    "\n",
    "print(sum_box.inside)\n",
    "print(F(phi)(1.0))  "
   ]
  },
  {
   "cell_type": "code",
   "execution_count": 13,
   "metadata": {},
   "outputs": [
    {
     "name": "stdout",
     "output_type": "stream",
     "text": [
      "1 R R\n",
      "(monoidal.Layer(monoidal.Ty(), markov.Box('sum', monoidal.Ty(cat.Ob('R')), monoidal.Ty(cat.Ob('R'))), monoidal.Ty()),)\n",
      "(functools.partial(<function sum at 0x171f5a660>, 1.0), functools.partial(<function sum at 0x171f5a660>, functools.partial(<function sum at 0x171f5a660>, 1.0)))\n"
     ]
    }
   ],
   "source": [
    "from discopy.markov import Ty, Box, Category, Functor, Copy\n",
    "from discopy import python\n",
    "from stat_games.open_model import OpenModel\n",
    "from discopy.markov import Ty\n",
    "from functools import partial\n",
    "def sum(x,y):\n",
    "        print(y)\n",
    "        return x+y\n",
    "channelized_sum = lambda x: partial(sum,x)\n",
    "R = Ty('R')\n",
    "sum_model = OpenModel(dom=R, cod=R, log_prob_channel=channelized_sum, channel_name=\"sum\")\n",
    "chaining_sums = sum_model >> sum_model\n",
    "sum_model.log_prob_channel(1)\n",
    "\n",
    "x = Ty('R')\n",
    "sum_box_chained = chaining_sums.box_channel\n",
    "sum_function_chained = chaining_sums.log_prob_channel\n",
    "copy = Box('', x, x @ x, draw_as_spider=True, color=\"black\")\n",
    "\n",
    "# x = Ty('$\\\\mathbb{R}$')\n",
    "# sum = Box('$sum$', x , x          )\n",
    "# >>> g = Box('$\\\\frac{1 + \\\\sqrt{5}}{2}$', Ty(), x)\n",
    "F = Functor(\n",
    "    ob={x: (float, )},\n",
    "    ar={sum_box: sum_function,\n",
    "        Copy(x, 2): lambda x: (x,x)},\n",
    "    cod=Category(python.Ty, python.Function))\n",
    "\n",
    "\n",
    "\n",
    "\n",
    "phi = sum_box_chained\n",
    "\n",
    "\n",
    "\n",
    "print(sum_box.inside)\n",
    "print(F(phi)(1.0))  "
   ]
  },
  {
   "cell_type": "code",
   "execution_count": null,
   "metadata": {},
   "outputs": [
    {
     "name": "stdout",
     "output_type": "stream",
     "text": [
      "\u001b[0;31mInit signature:\u001b[0m \u001b[0mBox\u001b[0m\u001b[0;34m(\u001b[0m\u001b[0mname\u001b[0m\u001b[0;34m:\u001b[0m \u001b[0;34m'str'\u001b[0m\u001b[0;34m,\u001b[0m \u001b[0mdom\u001b[0m\u001b[0;34m:\u001b[0m \u001b[0;34m'Ty'\u001b[0m\u001b[0;34m,\u001b[0m \u001b[0mcod\u001b[0m\u001b[0;34m:\u001b[0m \u001b[0;34m'Ty'\u001b[0m\u001b[0;34m,\u001b[0m \u001b[0;34m**\u001b[0m\u001b[0mparams\u001b[0m\u001b[0;34m)\u001b[0m\u001b[0;34m\u001b[0m\u001b[0;34m\u001b[0m\u001b[0m\n",
      "\u001b[0;31mDocstring:\u001b[0m     \n",
      "A traced box is a monoidal box in a traced diagram.\n",
      "\n",
      "Parameters:\n",
      "    name (str) : The name of the box.\n",
      "    dom (monoidal.Ty) : The domain of the box, i.e. its input.\n",
      "    cod (monoidal.Ty) : The codomain of the box, i.e. its output.\n",
      "\u001b[0;31mFile:\u001b[0m           /opt/miniconda3/envs/blr/lib/python3.12/site-packages/discopy/traced.py\n",
      "\u001b[0;31mType:\u001b[0m           ABCMeta\n",
      "\u001b[0;31mSubclasses:\u001b[0m     Trace, Box"
     ]
    }
   ],
   "source": [
    "?Box"
   ]
  },
  {
   "cell_type": "code",
   "execution_count": null,
   "metadata": {},
   "outputs": [],
   "source": []
  }
 ],
 "metadata": {
  "kernelspec": {
   "display_name": "blr",
   "language": "python",
   "name": "python3"
  },
  "language_info": {
   "codemirror_mode": {
    "name": "ipython",
    "version": 3
   },
   "file_extension": ".py",
   "mimetype": "text/x-python",
   "name": "python",
   "nbconvert_exporter": "python",
   "pygments_lexer": "ipython3",
   "version": "3.12.6"
  }
 },
 "nbformat": 4,
 "nbformat_minor": 2
}
