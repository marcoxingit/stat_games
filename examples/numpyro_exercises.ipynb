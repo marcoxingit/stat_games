{
 "cells": [
  {
   "cell_type": "code",
   "execution_count": 1,
   "metadata": {},
   "outputs": [],
   "source": [
    "import numpyro.distributions as dist "
   ]
  },
  {
   "cell_type": "code",
   "execution_count": 2,
   "metadata": {},
   "outputs": [],
   "source": [
    "normal_channel = dist.Normal"
   ]
  },
  {
   "cell_type": "code",
   "execution_count": 3,
   "metadata": {},
   "outputs": [],
   "source": [
    "normal_dist = normal_channel((0,1))"
   ]
  },
  {
   "cell_type": "code",
   "execution_count": 4,
   "metadata": {},
   "outputs": [
    {
     "data": {
      "text/plain": [
       "<numpyro.distributions.distribution.Delta object at 0x1449205c0 with batch shape () and event shape (3,)>"
      ]
     },
     "execution_count": 4,
     "metadata": {},
     "output_type": "execute_result"
    }
   ],
   "source": [
    "dist.Delta(v=(5.0, 5.0, 5.0), event_dim=1)\n"
   ]
  },
  {
   "cell_type": "code",
   "execution_count": 5,
   "metadata": {},
   "outputs": [],
   "source": [
    "from dataclasses import dataclass, field\n",
    "from typing import Optional\n",
    "from discopy.cat import Category\n",
    "from discopy.markov import Ty, Box\n",
    "import numpyro.distributions as dist  # NumPyro's distributions\n",
    "from functools import partial\n",
    "\n",
    "# Define some basic types.\n",
    "R = Ty(\"R\")\n",
    "N = Ty(\"N\")\n",
    "\n",
    "# Extend Box to include a probabilistic distribution.\n",
    "from discopy.markov import Ty\n",
    "import numpyro.distributions as dist\n",
    "\n",
    "# Define domain and codomain types\n",
    "dom = Ty('A')\n",
    "cod = Ty('B')\n",
    "\n",
    "# Define the distribution\n",
    "from discopy.markov import Ty, Box\n",
    "import numpyro.distributions as dist\n",
    "from dataclasses import dataclass\n",
    "from typing import Optional\n",
    "\n",
    "@dataclass\n",
    "class ProbBox(Box):\n",
    "    distribution: Optional[dist.Distribution] = None\n",
    "\n",
    "    def __init__(self, name: str, dom: Ty, cod: Ty, distribution: Optional[dist.Distribution] = None):\n",
    "        super().__init__(name, dom, cod)  # Call Box's constructor\n",
    "        self.distribution = distribution  # Set the distribution attribute\n",
    "\n",
    "# Define domain and codomain types\n",
    "dom = Ty('A')\n",
    "cod = Ty('A')\n",
    "\n",
    "# Define the distribution\n",
    "distribution = dist.Normal(0, 1)\n",
    "\n",
    "# Initialize the ProbBox\n",
    "prob_box = ProbBox(name='my_prob_box', dom=dom, cod=cod, distribution=distribution)\n"
   ]
  },
  {
   "cell_type": "code",
   "execution_count": 6,
   "metadata": {},
   "outputs": [],
   "source": [
    "from functools import partial"
   ]
  },
  {
   "cell_type": "code",
   "execution_count": 7,
   "metadata": {},
   "outputs": [
    {
     "name": "stdout",
     "output_type": "stream",
     "text": [
      "-5.4189386\n"
     ]
    }
   ],
   "source": [
    "from functools import partial\n",
    "import numpyro.distributions as dist\n",
    "\n",
    "normal_channel = dist.Normal\n",
    "# Define a function that takes positional arguments (e.g. loc, scale)\n",
    "log_prob = lambda *params: normal_channel(*params).log_prob\n",
    "\n",
    "# Now, log_prob(0, 1) returns a function that takes one argument (the value to evaluate)\n",
    "print(log_prob(0, 1)(3))  # computes log_prob(3) for Normal(0, 1)\n"
   ]
  },
  {
   "cell_type": "code",
   "execution_count": 8,
   "metadata": {},
   "outputs": [
    {
     "ename": "TypeError",
     "evalue": "<lambda>() takes 1 positional argument but 2 were given",
     "output_type": "error",
     "traceback": [
      "\u001b[0;31m---------------------------------------------------------------------------\u001b[0m",
      "\u001b[0;31mTypeError\u001b[0m                                 Traceback (most recent call last)",
      "Cell \u001b[0;32mIn[8], line 9\u001b[0m\n\u001b[1;32m      6\u001b[0m log_prob \u001b[38;5;241m=\u001b[39m partial(\u001b[38;5;28;01mlambda\u001b[39;00m x: normal_channel(\u001b[38;5;241m*\u001b[39mx)\u001b[38;5;241m.\u001b[39mlog_prob)\n\u001b[1;32m      8\u001b[0m \u001b[38;5;66;03m# This creates a function log_prob(0,1) that returns a function taking one argument.\u001b[39;00m\n\u001b[0;32m----> 9\u001b[0m \u001b[38;5;28mprint\u001b[39m(\u001b[43mlog_prob\u001b[49m\u001b[43m(\u001b[49m\u001b[38;5;241;43m0\u001b[39;49m\u001b[43m,\u001b[49m\u001b[43m \u001b[49m\u001b[38;5;241;43m1\u001b[39;49m\u001b[43m)\u001b[49m(\u001b[38;5;241m3\u001b[39m))  \u001b[38;5;66;03m# now works: computes log_prob(3) for Normal(0,1)\u001b[39;00m\n",
      "\u001b[0;31mTypeError\u001b[0m: <lambda>() takes 1 positional argument but 2 were given"
     ]
    }
   ],
   "source": [
    "from functools import partial\n",
    "import numpyro.distributions as dist\n",
    "\n",
    "normal_channel = dist.Normal\n",
    "# Correct lambda: note that x and y are passed as separate arguments.\n",
    "log_prob = partial(lambda x: normal_channel(*x).log_prob)\n",
    "\n",
    "# This creates a function log_prob(0,1) that returns a function taking one argument.\n",
    "print(log_prob(0, 1)(3))  # now works: computes log_prob(3) for Normal(0,1)\n"
   ]
  },
  {
   "cell_type": "code",
   "execution_count": null,
   "metadata": {},
   "outputs": [],
   "source": [
    "f1 = partial(lambda x: normal_channel(*x).log_prob)\n",
    "f2 = partial(lambda x: normal_channel(*x).log_prob)"
   ]
  },
  {
   "cell_type": "code",
   "execution_count": null,
   "metadata": {},
   "outputs": [
    {
     "data": {
      "text/plain": [
       "Array(-5.4189386, dtype=float32, weak_type=True)"
      ]
     },
     "execution_count": 51,
     "metadata": {},
     "output_type": "execute_result"
    }
   ],
   "source": [
    "def channelize_log_prob(dist):\n",
    "    return lambda *x: partial(dist(*x).log_prob)\n",
    "\n",
    "channelize_log_prob(normal_channel)(0, 1)(3)  # computes log_prob(3) for Normal(0, 1)"
   ]
  },
  {
   "cell_type": "code",
   "execution_count": null,
   "metadata": {},
   "outputs": [
    {
     "ename": "TypeError",
     "evalue": "unsupported operand type(s) for -: 'int' and 'tuple'",
     "output_type": "error",
     "traceback": [
      "\u001b[0;31m---------------------------------------------------------------------------\u001b[0m",
      "\u001b[0;31mTypeError\u001b[0m                                 Traceback (most recent call last)",
      "Cell \u001b[0;32mIn[31], line 1\u001b[0m\n\u001b[0;32m----> 1\u001b[0m \u001b[43mlog_prob\u001b[49m\u001b[43m(\u001b[49m\u001b[38;5;241;43m0\u001b[39;49m\u001b[43m,\u001b[49m\u001b[38;5;241;43m1\u001b[39;49m\u001b[43m)\u001b[49m\u001b[43m(\u001b[49m\u001b[38;5;241;43m3\u001b[39;49m\u001b[43m)\u001b[49m\n",
      "File \u001b[0;32m/opt/miniconda3/envs/blr/lib/python3.12/site-packages/numpyro/distributions/util.py:764\u001b[0m, in \u001b[0;36mvalidate_sample.<locals>.wrapper\u001b[0;34m(self, *args, **kwargs)\u001b[0m\n\u001b[1;32m    763\u001b[0m \u001b[38;5;28;01mdef\u001b[39;00m \u001b[38;5;21mwrapper\u001b[39m(\u001b[38;5;28mself\u001b[39m, \u001b[38;5;241m*\u001b[39margs, \u001b[38;5;241m*\u001b[39m\u001b[38;5;241m*\u001b[39mkwargs):\n\u001b[0;32m--> 764\u001b[0m     log_prob \u001b[38;5;241m=\u001b[39m \u001b[43mlog_prob_fn\u001b[49m\u001b[43m(\u001b[49m\u001b[38;5;28;43mself\u001b[39;49m\u001b[43m,\u001b[49m\u001b[43m \u001b[49m\u001b[38;5;241;43m*\u001b[39;49m\u001b[43margs\u001b[49m\u001b[43m,\u001b[49m\u001b[43m \u001b[49m\u001b[38;5;241;43m*\u001b[39;49m\u001b[38;5;241;43m*\u001b[39;49m\u001b[43mkwargs\u001b[49m\u001b[43m)\u001b[49m\n\u001b[1;32m    765\u001b[0m     \u001b[38;5;28;01mif\u001b[39;00m \u001b[38;5;28mself\u001b[39m\u001b[38;5;241m.\u001b[39m_validate_args:\n\u001b[1;32m    766\u001b[0m         value \u001b[38;5;241m=\u001b[39m kwargs[\u001b[38;5;124m\"\u001b[39m\u001b[38;5;124mvalue\u001b[39m\u001b[38;5;124m\"\u001b[39m] \u001b[38;5;28;01mif\u001b[39;00m \u001b[38;5;124m\"\u001b[39m\u001b[38;5;124mvalue\u001b[39m\u001b[38;5;124m\"\u001b[39m \u001b[38;5;129;01min\u001b[39;00m kwargs \u001b[38;5;28;01melse\u001b[39;00m args[\u001b[38;5;241m0\u001b[39m]\n",
      "File \u001b[0;32m/opt/miniconda3/envs/blr/lib/python3.12/site-packages/numpyro/distributions/continuous.py:2200\u001b[0m, in \u001b[0;36mNormal.log_prob\u001b[0;34m(self, value)\u001b[0m\n\u001b[1;32m   2197\u001b[0m \u001b[38;5;129m@validate_sample\u001b[39m\n\u001b[1;32m   2198\u001b[0m \u001b[38;5;28;01mdef\u001b[39;00m \u001b[38;5;21mlog_prob\u001b[39m(\u001b[38;5;28mself\u001b[39m, value):\n\u001b[1;32m   2199\u001b[0m     normalize_term \u001b[38;5;241m=\u001b[39m jnp\u001b[38;5;241m.\u001b[39mlog(jnp\u001b[38;5;241m.\u001b[39msqrt(\u001b[38;5;241m2\u001b[39m \u001b[38;5;241m*\u001b[39m jnp\u001b[38;5;241m.\u001b[39mpi) \u001b[38;5;241m*\u001b[39m \u001b[38;5;28mself\u001b[39m\u001b[38;5;241m.\u001b[39mscale)\n\u001b[0;32m-> 2200\u001b[0m     value_scaled \u001b[38;5;241m=\u001b[39m (\u001b[43mvalue\u001b[49m\u001b[43m \u001b[49m\u001b[38;5;241;43m-\u001b[39;49m\u001b[43m \u001b[49m\u001b[38;5;28;43mself\u001b[39;49m\u001b[38;5;241;43m.\u001b[39;49m\u001b[43mloc\u001b[49m) \u001b[38;5;241m/\u001b[39m \u001b[38;5;28mself\u001b[39m\u001b[38;5;241m.\u001b[39mscale\n\u001b[1;32m   2201\u001b[0m     \u001b[38;5;28;01mreturn\u001b[39;00m \u001b[38;5;241m-\u001b[39m\u001b[38;5;241m0.5\u001b[39m \u001b[38;5;241m*\u001b[39m value_scaled\u001b[38;5;241m*\u001b[39m\u001b[38;5;241m*\u001b[39m\u001b[38;5;241m2\u001b[39m \u001b[38;5;241m-\u001b[39m normalize_term\n",
      "\u001b[0;31mTypeError\u001b[0m: unsupported operand type(s) for -: 'int' and 'tuple'"
     ]
    }
   ],
   "source": []
  },
  {
   "cell_type": "code",
   "execution_count": null,
   "metadata": {},
   "outputs": [],
   "source": [
    "new = (prob_box >> prob_box)"
   ]
  },
  {
   "cell_type": "code",
   "execution_count": null,
   "metadata": {},
   "outputs": [
    {
     "ename": "AttributeError",
     "evalue": "'Diagram' object has no attribute 'distribution'",
     "output_type": "error",
     "traceback": [
      "\u001b[0;31m---------------------------------------------------------------------------\u001b[0m",
      "\u001b[0;31mAttributeError\u001b[0m                            Traceback (most recent call last)",
      "Cell \u001b[0;32mIn[22], line 1\u001b[0m\n\u001b[0;32m----> 1\u001b[0m \u001b[43mnew\u001b[49m\u001b[38;5;241;43m.\u001b[39;49m\u001b[43mdistribution\u001b[49m\n",
      "\u001b[0;31mAttributeError\u001b[0m: 'Diagram' object has no attribute 'distribution'"
     ]
    }
   ],
   "source": [
    "new.distribution"
   ]
  },
  {
   "cell_type": "code",
   "execution_count": null,
   "metadata": {},
   "outputs": [
    {
     "ename": "NameError",
     "evalue": "name 'ProbBox' is not defined",
     "output_type": "error",
     "traceback": [
      "\u001b[0;31m---------------------------------------------------------------------------\u001b[0m",
      "\u001b[0;31mNameError\u001b[0m                                 Traceback (most recent call last)",
      "Cell \u001b[0;32mIn[1], line 12\u001b[0m\n\u001b[1;32m      9\u001b[0m distribution \u001b[38;5;241m=\u001b[39m dist\u001b[38;5;241m.\u001b[39mNormal(\u001b[38;5;241m0\u001b[39m, \u001b[38;5;241m1\u001b[39m)\n\u001b[1;32m     11\u001b[0m \u001b[38;5;66;03m# Initialize the ProbBox\u001b[39;00m\n\u001b[0;32m---> 12\u001b[0m prob_box \u001b[38;5;241m=\u001b[39m \u001b[43mProbBox\u001b[49m(name\u001b[38;5;241m=\u001b[39m\u001b[38;5;124m'\u001b[39m\u001b[38;5;124mmy_prob_box\u001b[39m\u001b[38;5;124m'\u001b[39m, dom\u001b[38;5;241m=\u001b[39mdom, cod\u001b[38;5;241m=\u001b[39mcod, distribution\u001b[38;5;241m=\u001b[39mdistribution)\n",
      "\u001b[0;31mNameError\u001b[0m: name 'ProbBox' is not defined"
     ]
    }
   ],
   "source": [
    "from discopy.markov import Ty\n",
    "import numpyro.distributions as dist\n",
    "\n",
    "# Define domain and codomain types\n",
    "dom = Ty('A')\n",
    "cod = Ty('B')\n",
    "\n",
    "# Define the distribution\n",
    "distribution = dist.Normal(0, 1)\n",
    "\n",
    "# Initialize the ProbBox\n",
    "prob_box = ProbBox(name='my_prob_box', dom=dom, cod=cod, distribution=distribution)\n"
   ]
  },
  {
   "cell_type": "code",
   "execution_count": 10,
   "metadata": {},
   "outputs": [
    {
     "name": "stdout",
     "output_type": "stream",
     "text": [
      "1 R R\n",
      "1\n",
      "2\n"
     ]
    },
    {
     "data": {
      "image/png": "[encoded data removed]",
      "text/plain": [
       "<Figure size 200x300 with 1 Axes>"
      ]
     },
     "metadata": {},
     "output_type": "display_data"
    }
   ],
   "source": [
    "\n",
    "from stat_games.open_model import OpenModel\n",
    "from discopy.markov import Ty\n",
    "from functools import partial\n",
    "def sum(x,y):\n",
    "        print(y)\n",
    "        return x+y\n",
    "channelized_sum = lambda x: partial(sum,x)\n",
    "R = Ty('R')\n",
    "sum_model = OpenModel(dom=R, cod=R, log_prob_channel=channelized_sum, channel_name=\"sum\")\n",
    "chaining_sums = sum_model >> sum_model\n",
    "sum_model.log_prob_channel(1)\n",
    "chaining_sums.log_prob_channel(1)(1,2)\n",
    "# chaining_sums = chaining_sums >> sum_model\n",
    "chaining_sums.symbolic_channel.draw()\n",
    "# print(chaining_sums.log_prob_channel(1)(1,2,3))"
   ]
  },
  {
   "cell_type": "code",
   "execution_count": 11,
   "metadata": {},
   "outputs": [],
   "source": [
    "from discopy.markov import *\n",
    "import numpyro.distributions as dist \n",
    "x, y = Ty('x'), Ty('y')\n",
    "f = Box('f', x @ x, y)\n",
    "\n",
    "@Diagram.from_callable(x @ x, y)\n",
    "def diagram(a, b):  # Take two wires as inputs\n",
    "    _ = dist.Delta(b)     # Swap, apply f and discard the result.\n",
    "    return f(a, b) "
   ]
  },
  {
   "cell_type": "code",
   "execution_count": 12,
   "metadata": {},
   "outputs": [
    {
     "data": {
      "text/plain": [
       "markov.Diagram(inside=(monoidal.Layer(monoidal.Ty(), markov.Box('f', monoidal.Ty(cat.Ob('x'), cat.Ob('x')), monoidal.Ty(cat.Ob('y'))), monoidal.Ty()),), dom=monoidal.Ty(cat.Ob('x'), cat.Ob('x')), cod=monoidal.Ty(cat.Ob('y')))"
      ]
     },
     "execution_count": 12,
     "metadata": {},
     "output_type": "execute_result"
    }
   ],
   "source": [
    "diagram[0]"
   ]
  },
  {
   "cell_type": "code",
   "execution_count": 13,
   "metadata": {},
   "outputs": [
    {
     "data": {
      "text/plain": [
       "markov.Box('sum', monoidal.Ty(cat.Ob('R')), monoidal.Ty(cat.Ob('R')), data=<function <lambda> at 0x172071800>)"
      ]
     },
     "execution_count": 13,
     "metadata": {},
     "output_type": "execute_result"
    }
   ],
   "source": [
    "sum_model.box_channel"
   ]
  },
  {
   "cell_type": "code",
   "execution_count": null,
   "metadata": {},
   "outputs": [],
   "source": []
  },
  {
   "cell_type": "code",
   "execution_count": 17,
   "metadata": {},
   "outputs": [
    {
     "name": "stdout",
     "output_type": "stream",
     "text": [
      "1.0\n"
     ]
    },
    {
     "data": {
      "image/png": "[encoded data removed]",
      "text/plain": [
       "<Figure size 100x100 with 1 Axes>"
      ]
     },
     "metadata": {},
     "output_type": "display_data"
    }
   ],
   "source": [
    "from discopy.traced import Ty, Box, Category, Functor\n",
    "from discopy import python\n",
    "\n",
    "\n",
    "\n",
    "R = Ty('R')\n",
    "sum = Box('sum', R, R)\n",
    "copy = Box('', x, x @ x, draw_as_spider=True, color=\"black\")\n",
    "\n",
    "x = Ty('$\\\\mathbb{R}$')\n",
    "f = Box('$sum$', x , x          )\n",
    "# >>> g = Box('$\\\\frac{1 + \\\\sqrt{5}}{2}$', Ty(), x)\n",
    "F = Functor(\n",
    "    ob={x: (float, )},\n",
    "    ar={f: lambda x=1.: x},\n",
    "    cod=Category(python.Ty, python.Function))\n",
    "\n",
    "\n",
    "\n",
    "\n",
    "phi = f\n",
    "\n",
    "\n",
    "\n",
    "\n",
    "print(F(phi)(1.0))                   \n",
    "\n",
    "phi.draw()"
   ]
  },
  {
   "cell_type": "code",
   "execution_count": 18,
   "metadata": {},
   "outputs": [
    {
     "data": {
      "text/plain": [
       "markov.Box('sum', monoidal.Ty(cat.Ob('R')), monoidal.Ty(cat.Ob('R')), data=<function <lambda> at 0x172071800>)"
      ]
     },
     "execution_count": 18,
     "metadata": {},
     "output_type": "execute_result"
    }
   ],
   "source": [
    "sum_model.box_channel"
   ]
  },
  {
   "cell_type": "code",
   "execution_count": 19,
   "metadata": {},
   "outputs": [
    {
     "ename": "TypeError",
     "evalue": "the first argument must be callable",
     "output_type": "error",
     "traceback": [
      "\u001b[0;31m---------------------------------------------------------------------------\u001b[0m",
      "\u001b[0;31mTypeError\u001b[0m                                 Traceback (most recent call last)",
      "Cell \u001b[0;32mIn[19], line 1\u001b[0m\n\u001b[0;32m----> 1\u001b[0m \u001b[43msum_model\u001b[49m\u001b[38;5;241;43m.\u001b[39;49m\u001b[43mlog_prob_channel\u001b[49m\u001b[43m(\u001b[49m\u001b[38;5;241;43m1\u001b[39;49m\u001b[43m)\u001b[49m\n",
      "Cell \u001b[0;32mIn[10], line 7\u001b[0m, in \u001b[0;36m<lambda>\u001b[0;34m(x)\u001b[0m\n\u001b[1;32m      5\u001b[0m         \u001b[38;5;28mprint\u001b[39m(y)\n\u001b[1;32m      6\u001b[0m         \u001b[38;5;28;01mreturn\u001b[39;00m x\u001b[38;5;241m+\u001b[39my\n\u001b[0;32m----> 7\u001b[0m channelized_sum \u001b[38;5;241m=\u001b[39m \u001b[38;5;28;01mlambda\u001b[39;00m x: \u001b[43mpartial\u001b[49m\u001b[43m(\u001b[49m\u001b[38;5;28;43msum\u001b[39;49m\u001b[43m,\u001b[49m\u001b[43mx\u001b[49m\u001b[43m)\u001b[49m\n\u001b[1;32m      8\u001b[0m R \u001b[38;5;241m=\u001b[39m Ty(\u001b[38;5;124m'\u001b[39m\u001b[38;5;124mR\u001b[39m\u001b[38;5;124m'\u001b[39m)\n\u001b[1;32m      9\u001b[0m sum_model \u001b[38;5;241m=\u001b[39m OpenModel(dom\u001b[38;5;241m=\u001b[39mR, cod\u001b[38;5;241m=\u001b[39mR, log_prob_channel\u001b[38;5;241m=\u001b[39mchannelized_sum, channel_name\u001b[38;5;241m=\u001b[39m\u001b[38;5;124m\"\u001b[39m\u001b[38;5;124msum\u001b[39m\u001b[38;5;124m\"\u001b[39m)\n",
      "\u001b[0;31mTypeError\u001b[0m: the first argument must be callable"
     ]
    }
   ],
   "source": [
    "sum_model.log_prob_channel(1)"
   ]
  },
  {
   "cell_type": "code",
   "execution_count": null,
   "metadata": {},
   "outputs": [
    {
     "data": {
      "text/plain": [
       "markov.Box('sum', monoidal.Ty(cat.Ob('R')), monoidal.Ty(cat.Ob('R')))"
      ]
     },
     "execution_count": 5,
     "metadata": {},
     "output_type": "execute_result"
    }
   ],
   "source": [
    "sum_model.box_channel"
   ]
  },
  {
   "cell_type": "code",
   "execution_count": null,
   "metadata": {},
   "outputs": [
    {
     "data": {
      "text/plain": [
       "markov.Copy(monoidal.Ty(cat.Ob('R')), 2)"
      ]
     },
     "execution_count": 29,
     "metadata": {},
     "output_type": "execute_result"
    }
   ],
   "source": [
    "copy_arrow"
   ]
  },
  {
   "cell_type": "code",
   "execution_count": 20,
   "metadata": {},
   "outputs": [
    {
     "name": "stdout",
     "output_type": "stream",
     "text": [
      "1 R R\n",
      "Direct call to sum_model.log_prob_channel(1): functools.partial(<function sum_func at 0x30a8d7060>, 1)\n",
      "sum_box.inside: (monoidal.Layer(monoidal.Ty(), markov.Box('sum', monoidal.Ty(cat.Ob('R')), monoidal.Ty(cat.Ob('R')), data=<function <lambda> at 0x30a8d7a60>), monoidal.Ty()),)\n",
      "F(phi)(1.0): functools.partial(<function sum_func at 0x30a8d7060>, 1.0)\n"
     ]
    }
   ],
   "source": [
    "from discopy.traced import Ty, Box, Category, Functor\n",
    "from discopy.markov import Ty as M_Ty, Copy\n",
    "from discopy import python\n",
    "from stat_games.open_model import OpenModel\n",
    "from functools import partial\n",
    "\n",
    "# Define a simple sum function that prints its second argument and returns the sum.\n",
    "def sum_func(x, y):\n",
    "    print(\"sum_func received:\", y)\n",
    "    return x + y\n",
    "\n",
    "# Define a channelized version that partially applies x.\n",
    "channelized_sum = lambda x: partial(sum_func, x)\n",
    "\n",
    "# Create a basic type.\n",
    "R = Ty('R')\n",
    "\n",
    "# Create an OpenModel with domain R and codomain R.\n",
    "sum_model = OpenModel(dom=R, cod=R, log_prob_channel=channelized_sum, channel_name=\"sum\")\n",
    "chaining_sums = sum_model >> sum_model  # Compose models.\n",
    "print(\"Direct call to sum_model.log_prob_channel(1):\", sum_model.log_prob_channel(1))\n",
    "\n",
    "# Prepare functor mapping.\n",
    "x = Ty('R')\n",
    "sum_box = sum_model.box_channel   # This is the Box corresponding to our sum channel.\n",
    "sum_function = sum_model.log_prob_channel\n",
    "\n",
    "# Create a Copy arrow that duplicates its input twice.\n",
    "copy_arrow = Copy(x, 2)\n",
    "\n",
    "# Helper: Given n, return a function that, given x, returns an n-tuple of x.\n",
    "def copy_n(n: int):\n",
    "    return lambda x: (x,) * n\n",
    "\n",
    "# Subclass Functor to automatically handle Copy arrows.\n",
    "class MyFunctor(Functor):\n",
    "    def on_arrow(self, arrow):\n",
    "        # If the arrow is a Copy, then map it to a function that duplicates its input n times.\n",
    "        if isinstance(arrow, Copy):\n",
    "            return copy_n(len(arrow.cod))\n",
    "        # Otherwise, if the arrow is explicitly defined, use that.\n",
    "        if arrow in self.ar:\n",
    "            return self.ar[arrow]\n",
    "        return super().on_arrow(arrow)\n",
    "\n",
    "# Create our functor mapping objects to Python types.\n",
    "# Note: even though we add an entry for Copy(x,2), our subclass will catch it automatically.\n",
    "F = MyFunctor(\n",
    "    ob={x: (float,)},\n",
    "    ar={\n",
    "        sum_box: sum_function,\n",
    "        copy_arrow: copy_n(len(copy_arrow.cod))  # This is optional, as MyFunctor handles Copy arrows.\n",
    "    },\n",
    "    cod=Category(python.Ty, python.Function)\n",
    ")\n",
    "\n",
    "phi = sum_box\n",
    "\n",
    "# For debugging, print an internal representation of the arrow.\n",
    "print(\"sum_box.inside:\", sum_box.inside)\n",
    "# Now apply the functor to phi (which is our sum_box) and call the resulting function on 1.0.\n",
    "# If phi were a Copy arrow, it would now produce a 2-tuple of 1.0.\n",
    "print(\"F(phi)(1.0):\", F(phi)(1.0))\n"
   ]
  },
  {
   "cell_type": "markdown",
   "metadata": {},
   "source": [
    "# Mention to Toby"
   ]
  },
  {
   "cell_type": "code",
   "execution_count": 27,
   "metadata": {},
   "outputs": [
    {
     "name": "stdout",
     "output_type": "stream",
     "text": [
      "1 R R\n",
      "Direct call to sum_model.log_prob_channel(1): functools.partial(<function sum_func at 0x30b172de0>, 1)\n",
      "sum_box.inside: (monoidal.Layer(monoidal.Ty(), markov.Box('sum', monoidal.Ty(cat.Ob('R')), monoidal.Ty(cat.Ob('R')), data=<function <lambda> at 0x30b173ba0>), monoidal.Ty()),)\n",
      "F(phi)(1.0): functools.partial(<function sum_func at 0x30b172de0>, 1.0)\n"
     ]
    }
   ],
   "source": [
    "\n",
    "from discopy.markov import Ty as M_Ty  # if needed\n",
    "from discopy import python\n",
    "from stat_games.open_model import OpenModel\n",
    "from functools import partial\n",
    "\n",
    "# Define a simple sum function that prints its second argument and returns the sum.\n",
    "def sum_func(x, y):\n",
    "    print(\"sum_func received:\", y)\n",
    "    return x + y\n",
    "\n",
    "# Define a channelized version that partially applies x.\n",
    "channelized_sum = lambda x: partial(sum_func, x)\n",
    "\n",
    "# Create a basic type.\n",
    "R = Ty('R')\n",
    "\n",
    "# Create an OpenModel with domain R and codomain R.\n",
    "sum_model = OpenModel(dom=R, cod=R, log_prob_channel=channelized_sum, channel_name=\"sum\")\n",
    "chaining_sums = sum_model >> sum_model  # Compose models.\n",
    "print(\"Direct call to sum_model.log_prob_channel(1):\", sum_model.log_prob_channel(1))\n",
    "\n",
    "# Prepare functor mapping.\n",
    "x = Ty('R')\n",
    "sum_box = sum_model.box_channel   # The Box corresponding to our sum channel.\n",
    "sum_function = sum_model.log_prob_channel\n",
    "\n",
    "# Define a helper: given an integer n, return a function that, given x, returns an n-tuple of x.\n",
    "def copy_n(n: int):\n",
    "    return lambda x: (x,) * n\n",
    "\n",
    "# Subclass Functor to automatically handle Copy arrows.\n",
    "class MyFunctor(Functor):\n",
    "    def on_arrow(self, arrow):\n",
    "        # If arrow is a Copy, then map it to a function that duplicates its input n times,\n",
    "        # where n is determined by the number of factors in the codomain.\n",
    "        if isinstance(arrow, Copy):\n",
    "            return copy_n(len(arrow.cod))\n",
    "        # Otherwise, if arrow is explicitly given in our dictionary, use that.\n",
    "        if arrow in self.ar:\n",
    "            return self.ar[arrow]\n",
    "        return super().on_arrow(arrow)\n",
    "\n",
    "# Create our functor mapping objects to Python types.\n",
    "# We no longer add any entry for Copy arrows here.\n",
    "F = MyFunctor(\n",
    "    ob={x: (float,)},\n",
    "    \n",
    "    ar=lambda f: f.data if getattr(f, \"data\", None) is not None else f\n",
    "    ,\n",
    "    cod=Category(python.Ty, python.Function)\n",
    ")\n",
    "\n",
    "phi = sum_box\n",
    "\n",
    "# For debugging, print an internal representation of the arrow.\n",
    "print(\"sum_box.inside:\", sum_box.inside)\n",
    "# Now, applying the functor to phi, if phi were a Copy arrow then it would now be handled automatically.\n",
    "print(\"F(phi)(1.0):\", F(phi)(1.0))\n"
   ]
  },
  {
   "cell_type": "code",
   "execution_count": 25,
   "metadata": {},
   "outputs": [
    {
     "name": "stdout",
     "output_type": "stream",
     "text": [
      "1 R R\n",
      "(monoidal.Layer(monoidal.Ty(), markov.Box('sum', monoidal.Ty(cat.Ob('R')), monoidal.Ty(cat.Ob('R')), data=<function <lambda> at 0x30a8d6840>), monoidal.Ty()),)\n",
      "functools.partial(<function sum at 0x30a8d68e0>, 1.0)\n",
      "1 R R\n"
     ]
    },
    {
     "data": {
      "image/png": "[encoded data removed]",
      "text/plain": [
       "<Figure size 200x300 with 1 Axes>"
      ]
     },
     "metadata": {},
     "output_type": "display_data"
    },
    {
     "name": "stdout",
     "output_type": "stream",
     "text": [
      "None\n"
     ]
    },
    {
     "ename": "KeyError",
     "evalue": "markov.Box('sum', monoidal.Ty(cat.Ob('R')), monoidal.Ty(cat.Ob('R')), data=<function <lambda> at 0x30a8d68e0>)",
     "output_type": "error",
     "traceback": [
      "\u001b[0;31m---------------------------------------------------------------------------\u001b[0m",
      "\u001b[0;31mKeyError\u001b[0m                                  Traceback (most recent call last)",
      "Cell \u001b[0;32mIn[25], line 75\u001b[0m\n\u001b[1;32m     70\u001b[0m phi \u001b[38;5;241m=\u001b[39m sum_box_chained\n\u001b[1;32m     74\u001b[0m \u001b[38;5;28mprint\u001b[39m(sum_box_chained\u001b[38;5;241m.\u001b[39mdraw())\n\u001b[0;32m---> 75\u001b[0m \u001b[38;5;28mprint\u001b[39m(\u001b[43mF\u001b[49m\u001b[43m(\u001b[49m\u001b[43mphi\u001b[49m\u001b[43m)\u001b[49m(\u001b[38;5;241m1.0\u001b[39m))  \n",
      "File \u001b[0;32m/opt/miniconda3/envs/blr/lib/python3.12/site-packages/discopy/markov.py:322\u001b[0m, in \u001b[0;36mFunctor.__call__\u001b[0;34m(self, other)\u001b[0m\n\u001b[1;32m    320\u001b[0m \u001b[38;5;28;01mif\u001b[39;00m \u001b[38;5;28misinstance\u001b[39m(other, Merge):\n\u001b[1;32m    321\u001b[0m     \u001b[38;5;28;01mreturn\u001b[39;00m \u001b[38;5;28mself\u001b[39m\u001b[38;5;241m.\u001b[39mcod\u001b[38;5;241m.\u001b[39mar\u001b[38;5;241m.\u001b[39mmerge(\u001b[38;5;28mself\u001b[39m(other\u001b[38;5;241m.\u001b[39mcod), \u001b[38;5;28mlen\u001b[39m(other\u001b[38;5;241m.\u001b[39mdom))\n\u001b[0;32m--> 322\u001b[0m \u001b[38;5;28;01mreturn\u001b[39;00m \u001b[38;5;28;43msuper\u001b[39;49m\u001b[43m(\u001b[49m\u001b[43m)\u001b[49m\u001b[38;5;241;43m.\u001b[39;49m\u001b[38;5;21;43m__call__\u001b[39;49m\u001b[43m(\u001b[49m\u001b[43mother\u001b[49m\u001b[43m)\u001b[49m\n",
      "File \u001b[0;32m/opt/miniconda3/envs/blr/lib/python3.12/site-packages/discopy/symmetric.py:355\u001b[0m, in \u001b[0;36mFunctor.__call__\u001b[0;34m(self, other)\u001b[0m\n\u001b[1;32m    353\u001b[0m \u001b[38;5;28;01mif\u001b[39;00m \u001b[38;5;28misinstance\u001b[39m(other, Swap):\n\u001b[1;32m    354\u001b[0m     \u001b[38;5;28;01mreturn\u001b[39;00m \u001b[38;5;28mself\u001b[39m\u001b[38;5;241m.\u001b[39mcod\u001b[38;5;241m.\u001b[39mar\u001b[38;5;241m.\u001b[39mswap(\u001b[38;5;28mself\u001b[39m(other\u001b[38;5;241m.\u001b[39mdom[\u001b[38;5;241m0\u001b[39m]), \u001b[38;5;28mself\u001b[39m(other\u001b[38;5;241m.\u001b[39mdom[\u001b[38;5;241m1\u001b[39m]))\n\u001b[0;32m--> 355\u001b[0m \u001b[38;5;28;01mreturn\u001b[39;00m \u001b[38;5;28;43msuper\u001b[39;49m\u001b[43m(\u001b[49m\u001b[43m)\u001b[49m\u001b[38;5;241;43m.\u001b[39;49m\u001b[38;5;21;43m__call__\u001b[39;49m\u001b[43m(\u001b[49m\u001b[43mother\u001b[49m\u001b[43m)\u001b[49m\n",
      "File \u001b[0;32m/opt/miniconda3/envs/blr/lib/python3.12/site-packages/discopy/balanced.py:213\u001b[0m, in \u001b[0;36mFunctor.__call__\u001b[0;34m(self, other)\u001b[0m\n\u001b[1;32m    211\u001b[0m \u001b[38;5;28;01mif\u001b[39;00m \u001b[38;5;28misinstance\u001b[39m(other, Trace):\n\u001b[1;32m    212\u001b[0m     \u001b[38;5;28;01mreturn\u001b[39;00m traced\u001b[38;5;241m.\u001b[39mFunctor\u001b[38;5;241m.\u001b[39m\u001b[38;5;21m__call__\u001b[39m(\u001b[38;5;28mself\u001b[39m, other)\n\u001b[0;32m--> 213\u001b[0m \u001b[38;5;28;01mreturn\u001b[39;00m \u001b[43mbraided\u001b[49m\u001b[38;5;241;43m.\u001b[39;49m\u001b[43mFunctor\u001b[49m\u001b[38;5;241;43m.\u001b[39;49m\u001b[38;5;21;43m__call__\u001b[39;49m\u001b[43m(\u001b[49m\u001b[38;5;28;43mself\u001b[39;49m\u001b[43m,\u001b[49m\u001b[43m \u001b[49m\u001b[43mother\u001b[49m\u001b[43m)\u001b[49m\n",
      "File \u001b[0;32m/opt/miniconda3/envs/blr/lib/python3.12/site-packages/discopy/braided.py:259\u001b[0m, in \u001b[0;36mFunctor.__call__\u001b[0;34m(self, other)\u001b[0m\n\u001b[1;32m    257\u001b[0m \u001b[38;5;28;01mif\u001b[39;00m \u001b[38;5;28misinstance\u001b[39m(other, Braid) \u001b[38;5;129;01mand\u001b[39;00m \u001b[38;5;129;01mnot\u001b[39;00m other\u001b[38;5;241m.\u001b[39mis_dagger:\n\u001b[1;32m    258\u001b[0m     \u001b[38;5;28;01mreturn\u001b[39;00m \u001b[38;5;28mself\u001b[39m\u001b[38;5;241m.\u001b[39mcod\u001b[38;5;241m.\u001b[39mar\u001b[38;5;241m.\u001b[39mbraid(\u001b[38;5;28mself\u001b[39m(other\u001b[38;5;241m.\u001b[39mdom[\u001b[38;5;241m0\u001b[39m]), \u001b[38;5;28mself\u001b[39m(other\u001b[38;5;241m.\u001b[39mdom[\u001b[38;5;241m1\u001b[39m]))\n\u001b[0;32m--> 259\u001b[0m \u001b[38;5;28;01mreturn\u001b[39;00m \u001b[38;5;28;43msuper\u001b[39;49m\u001b[43m(\u001b[49m\u001b[43m)\u001b[49m\u001b[38;5;241;43m.\u001b[39;49m\u001b[38;5;21;43m__call__\u001b[39;49m\u001b[43m(\u001b[49m\u001b[43mother\u001b[49m\u001b[43m)\u001b[49m\n",
      "File \u001b[0;32m/opt/miniconda3/envs/blr/lib/python3.12/site-packages/discopy/traced.py:257\u001b[0m, in \u001b[0;36mFunctor.__call__\u001b[0;34m(self, other)\u001b[0m\n\u001b[1;32m    255\u001b[0m     n \u001b[38;5;241m=\u001b[39m \u001b[38;5;28mlen\u001b[39m(\u001b[38;5;28mself\u001b[39m(other\u001b[38;5;241m.\u001b[39marg\u001b[38;5;241m.\u001b[39mdom)) \u001b[38;5;241m-\u001b[39m \u001b[38;5;28mlen\u001b[39m(\u001b[38;5;28mself\u001b[39m(other\u001b[38;5;241m.\u001b[39mdom))\n\u001b[1;32m    256\u001b[0m     \u001b[38;5;28;01mreturn\u001b[39;00m \u001b[38;5;28mself\u001b[39m\u001b[38;5;241m.\u001b[39mcod\u001b[38;5;241m.\u001b[39mar\u001b[38;5;241m.\u001b[39mtrace(\u001b[38;5;28mself\u001b[39m(other\u001b[38;5;241m.\u001b[39marg), n, left\u001b[38;5;241m=\u001b[39mother\u001b[38;5;241m.\u001b[39mleft)\n\u001b[0;32m--> 257\u001b[0m \u001b[38;5;28;01mreturn\u001b[39;00m \u001b[38;5;28;43msuper\u001b[39;49m\u001b[43m(\u001b[49m\u001b[43m)\u001b[49m\u001b[38;5;241;43m.\u001b[39;49m\u001b[38;5;21;43m__call__\u001b[39;49m\u001b[43m(\u001b[49m\u001b[43mother\u001b[49m\u001b[43m)\u001b[49m\n",
      "File \u001b[0;32m/opt/miniconda3/envs/blr/lib/python3.12/site-packages/discopy/monoidal.py:1115\u001b[0m, in \u001b[0;36mFunctor.__call__\u001b[0;34m(self, other)\u001b[0m\n\u001b[1;32m   1113\u001b[0m \u001b[38;5;28;01mif\u001b[39;00m \u001b[38;5;28misinstance\u001b[39m(other, Bubble) \u001b[38;5;129;01mand\u001b[39;00m \u001b[38;5;28mself\u001b[39m\u001b[38;5;241m.\u001b[39mcod\u001b[38;5;241m.\u001b[39mar \u001b[38;5;129;01mis\u001b[39;00m Drawing:\n\u001b[1;32m   1114\u001b[0m     \u001b[38;5;28;01mreturn\u001b[39;00m other\u001b[38;5;241m.\u001b[39mto_drawing()\n\u001b[0;32m-> 1115\u001b[0m \u001b[38;5;28;01mreturn\u001b[39;00m \u001b[38;5;28;43msuper\u001b[39;49m\u001b[43m(\u001b[49m\u001b[43m)\u001b[49m\u001b[38;5;241;43m.\u001b[39;49m\u001b[38;5;21;43m__call__\u001b[39;49m\u001b[43m(\u001b[49m\u001b[43mother\u001b[49m\u001b[43m)\u001b[49m\n",
      "File \u001b[0;32m/opt/miniconda3/envs/blr/lib/python3.12/site-packages/discopy/cat.py:912\u001b[0m, in \u001b[0;36mFunctor.__call__\u001b[0;34m(self, other)\u001b[0m\n\u001b[1;32m    910\u001b[0m result \u001b[38;5;241m=\u001b[39m \u001b[38;5;28mself\u001b[39m\u001b[38;5;241m.\u001b[39mcod\u001b[38;5;241m.\u001b[39mar\u001b[38;5;241m.\u001b[39mid(\u001b[38;5;28mself\u001b[39m(other\u001b[38;5;241m.\u001b[39mdom))\n\u001b[1;32m    911\u001b[0m \u001b[38;5;28;01mfor\u001b[39;00m box \u001b[38;5;129;01min\u001b[39;00m other\u001b[38;5;241m.\u001b[39minside:\n\u001b[0;32m--> 912\u001b[0m     result \u001b[38;5;241m=\u001b[39m result \u001b[38;5;241m>>\u001b[39m \u001b[38;5;28;43mself\u001b[39;49m\u001b[43m(\u001b[49m\u001b[43mbox\u001b[49m\u001b[43m)\u001b[49m\n\u001b[1;32m    913\u001b[0m \u001b[38;5;28;01mreturn\u001b[39;00m result\n",
      "File \u001b[0;32m/opt/miniconda3/envs/blr/lib/python3.12/site-packages/discopy/markov.py:322\u001b[0m, in \u001b[0;36mFunctor.__call__\u001b[0;34m(self, other)\u001b[0m\n\u001b[1;32m    320\u001b[0m \u001b[38;5;28;01mif\u001b[39;00m \u001b[38;5;28misinstance\u001b[39m(other, Merge):\n\u001b[1;32m    321\u001b[0m     \u001b[38;5;28;01mreturn\u001b[39;00m \u001b[38;5;28mself\u001b[39m\u001b[38;5;241m.\u001b[39mcod\u001b[38;5;241m.\u001b[39mar\u001b[38;5;241m.\u001b[39mmerge(\u001b[38;5;28mself\u001b[39m(other\u001b[38;5;241m.\u001b[39mcod), \u001b[38;5;28mlen\u001b[39m(other\u001b[38;5;241m.\u001b[39mdom))\n\u001b[0;32m--> 322\u001b[0m \u001b[38;5;28;01mreturn\u001b[39;00m \u001b[38;5;28;43msuper\u001b[39;49m\u001b[43m(\u001b[49m\u001b[43m)\u001b[49m\u001b[38;5;241;43m.\u001b[39;49m\u001b[38;5;21;43m__call__\u001b[39;49m\u001b[43m(\u001b[49m\u001b[43mother\u001b[49m\u001b[43m)\u001b[49m\n",
      "File \u001b[0;32m/opt/miniconda3/envs/blr/lib/python3.12/site-packages/discopy/symmetric.py:355\u001b[0m, in \u001b[0;36mFunctor.__call__\u001b[0;34m(self, other)\u001b[0m\n\u001b[1;32m    353\u001b[0m \u001b[38;5;28;01mif\u001b[39;00m \u001b[38;5;28misinstance\u001b[39m(other, Swap):\n\u001b[1;32m    354\u001b[0m     \u001b[38;5;28;01mreturn\u001b[39;00m \u001b[38;5;28mself\u001b[39m\u001b[38;5;241m.\u001b[39mcod\u001b[38;5;241m.\u001b[39mar\u001b[38;5;241m.\u001b[39mswap(\u001b[38;5;28mself\u001b[39m(other\u001b[38;5;241m.\u001b[39mdom[\u001b[38;5;241m0\u001b[39m]), \u001b[38;5;28mself\u001b[39m(other\u001b[38;5;241m.\u001b[39mdom[\u001b[38;5;241m1\u001b[39m]))\n\u001b[0;32m--> 355\u001b[0m \u001b[38;5;28;01mreturn\u001b[39;00m \u001b[38;5;28;43msuper\u001b[39;49m\u001b[43m(\u001b[49m\u001b[43m)\u001b[49m\u001b[38;5;241;43m.\u001b[39;49m\u001b[38;5;21;43m__call__\u001b[39;49m\u001b[43m(\u001b[49m\u001b[43mother\u001b[49m\u001b[43m)\u001b[49m\n",
      "File \u001b[0;32m/opt/miniconda3/envs/blr/lib/python3.12/site-packages/discopy/balanced.py:213\u001b[0m, in \u001b[0;36mFunctor.__call__\u001b[0;34m(self, other)\u001b[0m\n\u001b[1;32m    211\u001b[0m \u001b[38;5;28;01mif\u001b[39;00m \u001b[38;5;28misinstance\u001b[39m(other, Trace):\n\u001b[1;32m    212\u001b[0m     \u001b[38;5;28;01mreturn\u001b[39;00m traced\u001b[38;5;241m.\u001b[39mFunctor\u001b[38;5;241m.\u001b[39m\u001b[38;5;21m__call__\u001b[39m(\u001b[38;5;28mself\u001b[39m, other)\n\u001b[0;32m--> 213\u001b[0m \u001b[38;5;28;01mreturn\u001b[39;00m \u001b[43mbraided\u001b[49m\u001b[38;5;241;43m.\u001b[39;49m\u001b[43mFunctor\u001b[49m\u001b[38;5;241;43m.\u001b[39;49m\u001b[38;5;21;43m__call__\u001b[39;49m\u001b[43m(\u001b[49m\u001b[38;5;28;43mself\u001b[39;49m\u001b[43m,\u001b[49m\u001b[43m \u001b[49m\u001b[43mother\u001b[49m\u001b[43m)\u001b[49m\n",
      "File \u001b[0;32m/opt/miniconda3/envs/blr/lib/python3.12/site-packages/discopy/braided.py:259\u001b[0m, in \u001b[0;36mFunctor.__call__\u001b[0;34m(self, other)\u001b[0m\n\u001b[1;32m    257\u001b[0m \u001b[38;5;28;01mif\u001b[39;00m \u001b[38;5;28misinstance\u001b[39m(other, Braid) \u001b[38;5;129;01mand\u001b[39;00m \u001b[38;5;129;01mnot\u001b[39;00m other\u001b[38;5;241m.\u001b[39mis_dagger:\n\u001b[1;32m    258\u001b[0m     \u001b[38;5;28;01mreturn\u001b[39;00m \u001b[38;5;28mself\u001b[39m\u001b[38;5;241m.\u001b[39mcod\u001b[38;5;241m.\u001b[39mar\u001b[38;5;241m.\u001b[39mbraid(\u001b[38;5;28mself\u001b[39m(other\u001b[38;5;241m.\u001b[39mdom[\u001b[38;5;241m0\u001b[39m]), \u001b[38;5;28mself\u001b[39m(other\u001b[38;5;241m.\u001b[39mdom[\u001b[38;5;241m1\u001b[39m]))\n\u001b[0;32m--> 259\u001b[0m \u001b[38;5;28;01mreturn\u001b[39;00m \u001b[38;5;28;43msuper\u001b[39;49m\u001b[43m(\u001b[49m\u001b[43m)\u001b[49m\u001b[38;5;241;43m.\u001b[39;49m\u001b[38;5;21;43m__call__\u001b[39;49m\u001b[43m(\u001b[49m\u001b[43mother\u001b[49m\u001b[43m)\u001b[49m\n",
      "File \u001b[0;32m/opt/miniconda3/envs/blr/lib/python3.12/site-packages/discopy/traced.py:257\u001b[0m, in \u001b[0;36mFunctor.__call__\u001b[0;34m(self, other)\u001b[0m\n\u001b[1;32m    255\u001b[0m     n \u001b[38;5;241m=\u001b[39m \u001b[38;5;28mlen\u001b[39m(\u001b[38;5;28mself\u001b[39m(other\u001b[38;5;241m.\u001b[39marg\u001b[38;5;241m.\u001b[39mdom)) \u001b[38;5;241m-\u001b[39m \u001b[38;5;28mlen\u001b[39m(\u001b[38;5;28mself\u001b[39m(other\u001b[38;5;241m.\u001b[39mdom))\n\u001b[1;32m    256\u001b[0m     \u001b[38;5;28;01mreturn\u001b[39;00m \u001b[38;5;28mself\u001b[39m\u001b[38;5;241m.\u001b[39mcod\u001b[38;5;241m.\u001b[39mar\u001b[38;5;241m.\u001b[39mtrace(\u001b[38;5;28mself\u001b[39m(other\u001b[38;5;241m.\u001b[39marg), n, left\u001b[38;5;241m=\u001b[39mother\u001b[38;5;241m.\u001b[39mleft)\n\u001b[0;32m--> 257\u001b[0m \u001b[38;5;28;01mreturn\u001b[39;00m \u001b[38;5;28;43msuper\u001b[39;49m\u001b[43m(\u001b[49m\u001b[43m)\u001b[49m\u001b[38;5;241;43m.\u001b[39;49m\u001b[38;5;21;43m__call__\u001b[39;49m\u001b[43m(\u001b[49m\u001b[43mother\u001b[49m\u001b[43m)\u001b[49m\n",
      "File \u001b[0;32m/opt/miniconda3/envs/blr/lib/python3.12/site-packages/discopy/monoidal.py:1111\u001b[0m, in \u001b[0;36mFunctor.__call__\u001b[0;34m(self, other)\u001b[0m\n\u001b[1;32m   1109\u001b[0m     result \u001b[38;5;241m=\u001b[39m \u001b[38;5;28mself\u001b[39m(head)\n\u001b[1;32m   1110\u001b[0m     \u001b[38;5;28;01mfor\u001b[39;00m box_or_typ \u001b[38;5;129;01min\u001b[39;00m tail:\n\u001b[0;32m-> 1111\u001b[0m         result \u001b[38;5;241m=\u001b[39m result \u001b[38;5;241m@\u001b[39m \u001b[38;5;28;43mself\u001b[39;49m\u001b[43m(\u001b[49m\u001b[43mbox_or_typ\u001b[49m\u001b[43m)\u001b[49m\n\u001b[1;32m   1112\u001b[0m     \u001b[38;5;28;01mreturn\u001b[39;00m result\n\u001b[1;32m   1113\u001b[0m \u001b[38;5;28;01mif\u001b[39;00m \u001b[38;5;28misinstance\u001b[39m(other, Bubble) \u001b[38;5;129;01mand\u001b[39;00m \u001b[38;5;28mself\u001b[39m\u001b[38;5;241m.\u001b[39mcod\u001b[38;5;241m.\u001b[39mar \u001b[38;5;129;01mis\u001b[39;00m Drawing:\n",
      "File \u001b[0;32m/opt/miniconda3/envs/blr/lib/python3.12/site-packages/discopy/markov.py:322\u001b[0m, in \u001b[0;36mFunctor.__call__\u001b[0;34m(self, other)\u001b[0m\n\u001b[1;32m    320\u001b[0m \u001b[38;5;28;01mif\u001b[39;00m \u001b[38;5;28misinstance\u001b[39m(other, Merge):\n\u001b[1;32m    321\u001b[0m     \u001b[38;5;28;01mreturn\u001b[39;00m \u001b[38;5;28mself\u001b[39m\u001b[38;5;241m.\u001b[39mcod\u001b[38;5;241m.\u001b[39mar\u001b[38;5;241m.\u001b[39mmerge(\u001b[38;5;28mself\u001b[39m(other\u001b[38;5;241m.\u001b[39mcod), \u001b[38;5;28mlen\u001b[39m(other\u001b[38;5;241m.\u001b[39mdom))\n\u001b[0;32m--> 322\u001b[0m \u001b[38;5;28;01mreturn\u001b[39;00m \u001b[38;5;28;43msuper\u001b[39;49m\u001b[43m(\u001b[49m\u001b[43m)\u001b[49m\u001b[38;5;241;43m.\u001b[39;49m\u001b[38;5;21;43m__call__\u001b[39;49m\u001b[43m(\u001b[49m\u001b[43mother\u001b[49m\u001b[43m)\u001b[49m\n",
      "File \u001b[0;32m/opt/miniconda3/envs/blr/lib/python3.12/site-packages/discopy/symmetric.py:355\u001b[0m, in \u001b[0;36mFunctor.__call__\u001b[0;34m(self, other)\u001b[0m\n\u001b[1;32m    353\u001b[0m \u001b[38;5;28;01mif\u001b[39;00m \u001b[38;5;28misinstance\u001b[39m(other, Swap):\n\u001b[1;32m    354\u001b[0m     \u001b[38;5;28;01mreturn\u001b[39;00m \u001b[38;5;28mself\u001b[39m\u001b[38;5;241m.\u001b[39mcod\u001b[38;5;241m.\u001b[39mar\u001b[38;5;241m.\u001b[39mswap(\u001b[38;5;28mself\u001b[39m(other\u001b[38;5;241m.\u001b[39mdom[\u001b[38;5;241m0\u001b[39m]), \u001b[38;5;28mself\u001b[39m(other\u001b[38;5;241m.\u001b[39mdom[\u001b[38;5;241m1\u001b[39m]))\n\u001b[0;32m--> 355\u001b[0m \u001b[38;5;28;01mreturn\u001b[39;00m \u001b[38;5;28;43msuper\u001b[39;49m\u001b[43m(\u001b[49m\u001b[43m)\u001b[49m\u001b[38;5;241;43m.\u001b[39;49m\u001b[38;5;21;43m__call__\u001b[39;49m\u001b[43m(\u001b[49m\u001b[43mother\u001b[49m\u001b[43m)\u001b[49m\n",
      "File \u001b[0;32m/opt/miniconda3/envs/blr/lib/python3.12/site-packages/discopy/balanced.py:213\u001b[0m, in \u001b[0;36mFunctor.__call__\u001b[0;34m(self, other)\u001b[0m\n\u001b[1;32m    211\u001b[0m \u001b[38;5;28;01mif\u001b[39;00m \u001b[38;5;28misinstance\u001b[39m(other, Trace):\n\u001b[1;32m    212\u001b[0m     \u001b[38;5;28;01mreturn\u001b[39;00m traced\u001b[38;5;241m.\u001b[39mFunctor\u001b[38;5;241m.\u001b[39m\u001b[38;5;21m__call__\u001b[39m(\u001b[38;5;28mself\u001b[39m, other)\n\u001b[0;32m--> 213\u001b[0m \u001b[38;5;28;01mreturn\u001b[39;00m \u001b[43mbraided\u001b[49m\u001b[38;5;241;43m.\u001b[39;49m\u001b[43mFunctor\u001b[49m\u001b[38;5;241;43m.\u001b[39;49m\u001b[38;5;21;43m__call__\u001b[39;49m\u001b[43m(\u001b[49m\u001b[38;5;28;43mself\u001b[39;49m\u001b[43m,\u001b[49m\u001b[43m \u001b[49m\u001b[43mother\u001b[49m\u001b[43m)\u001b[49m\n",
      "File \u001b[0;32m/opt/miniconda3/envs/blr/lib/python3.12/site-packages/discopy/braided.py:259\u001b[0m, in \u001b[0;36mFunctor.__call__\u001b[0;34m(self, other)\u001b[0m\n\u001b[1;32m    257\u001b[0m \u001b[38;5;28;01mif\u001b[39;00m \u001b[38;5;28misinstance\u001b[39m(other, Braid) \u001b[38;5;129;01mand\u001b[39;00m \u001b[38;5;129;01mnot\u001b[39;00m other\u001b[38;5;241m.\u001b[39mis_dagger:\n\u001b[1;32m    258\u001b[0m     \u001b[38;5;28;01mreturn\u001b[39;00m \u001b[38;5;28mself\u001b[39m\u001b[38;5;241m.\u001b[39mcod\u001b[38;5;241m.\u001b[39mar\u001b[38;5;241m.\u001b[39mbraid(\u001b[38;5;28mself\u001b[39m(other\u001b[38;5;241m.\u001b[39mdom[\u001b[38;5;241m0\u001b[39m]), \u001b[38;5;28mself\u001b[39m(other\u001b[38;5;241m.\u001b[39mdom[\u001b[38;5;241m1\u001b[39m]))\n\u001b[0;32m--> 259\u001b[0m \u001b[38;5;28;01mreturn\u001b[39;00m \u001b[38;5;28;43msuper\u001b[39;49m\u001b[43m(\u001b[49m\u001b[43m)\u001b[49m\u001b[38;5;241;43m.\u001b[39;49m\u001b[38;5;21;43m__call__\u001b[39;49m\u001b[43m(\u001b[49m\u001b[43mother\u001b[49m\u001b[43m)\u001b[49m\n",
      "File \u001b[0;32m/opt/miniconda3/envs/blr/lib/python3.12/site-packages/discopy/traced.py:257\u001b[0m, in \u001b[0;36mFunctor.__call__\u001b[0;34m(self, other)\u001b[0m\n\u001b[1;32m    255\u001b[0m     n \u001b[38;5;241m=\u001b[39m \u001b[38;5;28mlen\u001b[39m(\u001b[38;5;28mself\u001b[39m(other\u001b[38;5;241m.\u001b[39marg\u001b[38;5;241m.\u001b[39mdom)) \u001b[38;5;241m-\u001b[39m \u001b[38;5;28mlen\u001b[39m(\u001b[38;5;28mself\u001b[39m(other\u001b[38;5;241m.\u001b[39mdom))\n\u001b[1;32m    256\u001b[0m     \u001b[38;5;28;01mreturn\u001b[39;00m \u001b[38;5;28mself\u001b[39m\u001b[38;5;241m.\u001b[39mcod\u001b[38;5;241m.\u001b[39mar\u001b[38;5;241m.\u001b[39mtrace(\u001b[38;5;28mself\u001b[39m(other\u001b[38;5;241m.\u001b[39marg), n, left\u001b[38;5;241m=\u001b[39mother\u001b[38;5;241m.\u001b[39mleft)\n\u001b[0;32m--> 257\u001b[0m \u001b[38;5;28;01mreturn\u001b[39;00m \u001b[38;5;28;43msuper\u001b[39;49m\u001b[43m(\u001b[49m\u001b[43m)\u001b[49m\u001b[38;5;241;43m.\u001b[39;49m\u001b[38;5;21;43m__call__\u001b[39;49m\u001b[43m(\u001b[49m\u001b[43mother\u001b[49m\u001b[43m)\u001b[49m\n",
      "File \u001b[0;32m/opt/miniconda3/envs/blr/lib/python3.12/site-packages/discopy/monoidal.py:1115\u001b[0m, in \u001b[0;36mFunctor.__call__\u001b[0;34m(self, other)\u001b[0m\n\u001b[1;32m   1113\u001b[0m \u001b[38;5;28;01mif\u001b[39;00m \u001b[38;5;28misinstance\u001b[39m(other, Bubble) \u001b[38;5;129;01mand\u001b[39;00m \u001b[38;5;28mself\u001b[39m\u001b[38;5;241m.\u001b[39mcod\u001b[38;5;241m.\u001b[39mar \u001b[38;5;129;01mis\u001b[39;00m Drawing:\n\u001b[1;32m   1114\u001b[0m     \u001b[38;5;28;01mreturn\u001b[39;00m other\u001b[38;5;241m.\u001b[39mto_drawing()\n\u001b[0;32m-> 1115\u001b[0m \u001b[38;5;28;01mreturn\u001b[39;00m \u001b[38;5;28;43msuper\u001b[39;49m\u001b[43m(\u001b[49m\u001b[43m)\u001b[49m\u001b[38;5;241;43m.\u001b[39;49m\u001b[38;5;21;43m__call__\u001b[39;49m\u001b[43m(\u001b[49m\u001b[43mother\u001b[49m\u001b[43m)\u001b[49m\n",
      "File \u001b[0;32m/opt/miniconda3/envs/blr/lib/python3.12/site-packages/discopy/cat.py:905\u001b[0m, in \u001b[0;36mFunctor.__call__\u001b[0;34m(self, other)\u001b[0m\n\u001b[1;32m    903\u001b[0m     \u001b[38;5;28;01mreturn\u001b[39;00m \u001b[38;5;28mself\u001b[39m(other\u001b[38;5;241m.\u001b[39mdagger())\u001b[38;5;241m.\u001b[39mdagger()\n\u001b[1;32m    904\u001b[0m \u001b[38;5;28;01mif\u001b[39;00m \u001b[38;5;28misinstance\u001b[39m(other, Box):\n\u001b[0;32m--> 905\u001b[0m     result \u001b[38;5;241m=\u001b[39m \u001b[38;5;28;43mself\u001b[39;49m\u001b[38;5;241;43m.\u001b[39;49m\u001b[43mar\u001b[49m\u001b[43m[\u001b[49m\u001b[43mother\u001b[49m\u001b[43m]\u001b[49m\n\u001b[1;32m    906\u001b[0m     \u001b[38;5;66;03m# This allows some nice syntactic sugar for the ar mapping.\u001b[39;00m\n\u001b[1;32m    907\u001b[0m     \u001b[38;5;28;01mreturn\u001b[39;00m result \u001b[38;5;28;01mif\u001b[39;00m \u001b[38;5;28misinstance\u001b[39m(result, \u001b[38;5;28mself\u001b[39m\u001b[38;5;241m.\u001b[39mcod\u001b[38;5;241m.\u001b[39mar)\\\n\u001b[1;32m    908\u001b[0m         \u001b[38;5;28;01melse\u001b[39;00m \u001b[38;5;28mself\u001b[39m\u001b[38;5;241m.\u001b[39mcod\u001b[38;5;241m.\u001b[39mar(result, \u001b[38;5;28mself\u001b[39m(other\u001b[38;5;241m.\u001b[39mdom), \u001b[38;5;28mself\u001b[39m(other\u001b[38;5;241m.\u001b[39mcod))\n",
      "File \u001b[0;32m/opt/miniconda3/envs/blr/lib/python3.12/site-packages/discopy/utils.py:72\u001b[0m, in \u001b[0;36mMappingOrCallable.__getitem__\u001b[0;34m(self, item)\u001b[0m\n\u001b[1;32m     71\u001b[0m \u001b[38;5;28;01mdef\u001b[39;00m \u001b[38;5;21m__getitem__\u001b[39m(\u001b[38;5;28mself\u001b[39m, item: KT) \u001b[38;5;241m-\u001b[39m\u001b[38;5;241m>\u001b[39m VT:\n\u001b[0;32m---> 72\u001b[0m     \u001b[38;5;28;01mreturn\u001b[39;00m \u001b[38;5;28;43mself\u001b[39;49m\u001b[38;5;241;43m.\u001b[39;49m\u001b[43mmapping\u001b[49m\u001b[43m[\u001b[49m\u001b[43mitem\u001b[49m\u001b[43m]\u001b[49m \u001b[38;5;28;01mif\u001b[39;00m \u001b[38;5;28mhasattr\u001b[39m(\u001b[38;5;28mself\u001b[39m\u001b[38;5;241m.\u001b[39mmapping, \u001b[38;5;124m\"\u001b[39m\u001b[38;5;124m__getitem__\u001b[39m\u001b[38;5;124m\"\u001b[39m)\\\n\u001b[1;32m     73\u001b[0m         \u001b[38;5;28;01melse\u001b[39;00m \u001b[38;5;28mself\u001b[39m\u001b[38;5;241m.\u001b[39mmapping(item)\n",
      "\u001b[0;31mKeyError\u001b[0m: markov.Box('sum', monoidal.Ty(cat.Ob('R')), monoidal.Ty(cat.Ob('R')), data=<function <lambda> at 0x30a8d68e0>)"
     ]
    }
   ],
   "source": [
    "from discopy.traced import Ty, Box, Category, Functor\n",
    "from discopy import python\n",
    "from stat_games.open_model import OpenModel\n",
    "from discopy.markov import Ty\n",
    "from functools import partial\n",
    "def sum(x,y):\n",
    "        print(y)\n",
    "        return x+y\n",
    "channelized_sum = lambda x: partial(sum,x)\n",
    "R = Ty('R')\n",
    "sum_model = OpenModel(dom=R, cod=R, log_prob_channel=channelized_sum, channel_name=\"sum\")\n",
    "chaining_sums = sum_model >> sum_model\n",
    "sum_model.log_prob_channel(1)\n",
    "\n",
    "x = Ty('R')\n",
    "sum_box = sum_model.box_channel\n",
    "sum_function = sum_model.log_prob_channel\n",
    "copy = Box('', x, x @ x, draw_as_spider=True, color=\"black\")\n",
    "\n",
    "# x = Ty('$\\\\mathbb{R}$')\n",
    "# sum = Box('$sum$', x , x          )\n",
    "# >>> g = Box('$\\\\frac{1 + \\\\sqrt{5}}{2}$', Ty(), x)\n",
    "F = Functor(\n",
    "    ob={x: (float, )},\n",
    "    ar={sum_box: sum_function},\n",
    "    cod=Category(python.Ty, python.Function))\n",
    "\n",
    "\n",
    "\n",
    "\n",
    "phi = sum_box\n",
    "\n",
    "\n",
    "\n",
    "print(sum_box.inside)\n",
    "print(F(phi)(1.0))  \n",
    "\n",
    "from discopy.markov import Ty, Box, Category, Functor, Copy\n",
    "from discopy.monoidal import Box\n",
    "from discopy import python\n",
    "from stat_games.open_model import OpenModel\n",
    "from discopy.markov import Ty\n",
    "from functools import partial\n",
    "def sum(x,y):\n",
    "        print(y)\n",
    "        return x+y\n",
    "channelized_sum = lambda x: partial(sum,x)\n",
    "R = Ty('R')\n",
    "sum_model = OpenModel(dom=R, cod=R, log_prob_channel=channelized_sum, channel_name=\"sum\")\n",
    "chaining_sums = sum_model >> sum_model\n",
    "sum_model.log_prob_channel(1)\n",
    "\n",
    "x = Ty('R')\n",
    "sum_box_chained = chaining_sums.box_channel\n",
    "sum_function_chained = chaining_sums.log_prob_channel\n",
    "# copy = Box('', x, x @ x, draw_as_spider=True, color=\"black\")\n",
    "\n",
    "# x = Ty('$\\\\mathbb{R}$')\n",
    "# sum = Box('$sum$', x , x          )\n",
    "# >>> g = Box('$\\\\frac{1 + \\\\sqrt{5}}{2}$', Ty(), x)\n",
    "F = Functor(\n",
    "    ob={x: (float, )},\n",
    "    ar={sum_box: sum_function,\n",
    "        Copy(x, 2): lambda x: (x,x)},\n",
    "    cod=Category(python.Ty, python.Function))\n",
    "\n",
    "\n",
    "\n",
    "\n",
    "phi = sum_box_chained\n",
    "\n",
    "\n",
    "\n",
    "print(sum_box_chained.draw())\n",
    "print(F(phi)(1.0))  "
   ]
  },
  {
   "cell_type": "code",
   "execution_count": null,
   "metadata": {},
   "outputs": [
    {
     "name": "stdout",
     "output_type": "stream",
     "text": [
      "1 R R\n"
     ]
    },
    {
     "ename": "NameError",
     "evalue": "name 'n' is not defined",
     "output_type": "error",
     "traceback": [
      "\u001b[0;31m---------------------------------------------------------------------------\u001b[0m",
      "\u001b[0;31mNameError\u001b[0m                                 Traceback (most recent call last)",
      "Cell \u001b[0;32mIn[22], line 27\u001b[0m\n\u001b[1;32m     18\u001b[0m sum_function_chained \u001b[38;5;241m=\u001b[39m chaining_sums\u001b[38;5;241m.\u001b[39mlog_prob_channel\n\u001b[1;32m     19\u001b[0m \u001b[38;5;66;03m# copy = Box('', x, x @ x, draw_as_spider=True, color=\"black\")\u001b[39;00m\n\u001b[1;32m     20\u001b[0m \n\u001b[1;32m     21\u001b[0m \u001b[38;5;66;03m# x = Ty('$\\\\mathbb{R}$')\u001b[39;00m\n\u001b[1;32m     22\u001b[0m \u001b[38;5;66;03m# sum = Box('$sum$', x , x          )\u001b[39;00m\n\u001b[1;32m     23\u001b[0m \u001b[38;5;66;03m# >>> g = Box('$\\\\frac{1 + \\\\sqrt{5}}{2}$', Ty(), x)\u001b[39;00m\n\u001b[1;32m     24\u001b[0m F \u001b[38;5;241m=\u001b[39m Functor(\n\u001b[1;32m     25\u001b[0m     ob\u001b[38;5;241m=\u001b[39m{x: (\u001b[38;5;28mfloat\u001b[39m, )},\n\u001b[1;32m     26\u001b[0m     ar\u001b[38;5;241m=\u001b[39m{sum_box: sum_function,\n\u001b[0;32m---> 27\u001b[0m         Copy(x, \u001b[43mn\u001b[49m): \u001b[38;5;28;01mlambda\u001b[39;00m x, n: (x,x)},\n\u001b[1;32m     28\u001b[0m     cod\u001b[38;5;241m=\u001b[39mCategory(python\u001b[38;5;241m.\u001b[39mTy, python\u001b[38;5;241m.\u001b[39mFunction))\n\u001b[1;32m     33\u001b[0m phi \u001b[38;5;241m=\u001b[39m sum_box_chained\n\u001b[1;32m     37\u001b[0m \u001b[38;5;28mprint\u001b[39m(sum_box_chained\u001b[38;5;241m.\u001b[39mdraw())\n",
      "\u001b[0;31mNameError\u001b[0m: name 'n' is not defined"
     ]
    }
   ],
   "source": [
    "from discopy.markov import Ty, Box, Category, Functor, Copy\n",
    "from discopy.monoidal import Box\n",
    "from discopy import python\n",
    "from stat_games.open_model import OpenModel\n",
    "from discopy.markov import Ty\n",
    "from functools import partial\n",
    "def sum(x,y):\n",
    "        print(y)\n",
    "        return x+y\n",
    "channelized_sum = lambda x: partial(sum,x)\n",
    "R = Ty('R')\n",
    "sum_model = OpenModel(dom=R, cod=R, log_prob_channel=channelized_sum, channel_name=\"sum\")\n",
    "chaining_sums = sum_model >> sum_model\n",
    "sum_model.log_prob_channel(1)\n",
    "\n",
    "x = Ty('R')\n",
    "sum_box_chained = chaining_sums.box_channel\n",
    "sum_function_chained = chaining_sums.log_prob_channel\n",
    "# copy = Box('', x, x @ x, draw_as_spider=True, color=\"black\")\n",
    "\n",
    "# x = Ty('$\\\\mathbb{R}$')\n",
    "# sum = Box('$sum$', x , x          )\n",
    "# >>> g = Box('$\\\\frac{1 + \\\\sqrt{5}}{2}$', Ty(), x)\n",
    "F = Functor(\n",
    "    ob={x: (float, )},\n",
    "    ar={sum_box: sum_function,\n",
    "        Copy(x, 2): lambda x: (x,x)},\n",
    "    cod=Category(python.Ty, python.Function))\n",
    "\n",
    "\n",
    "\n",
    "\n",
    "phi = sum_box_chained\n",
    "\n",
    "\n",
    "\n",
    "print(sum_box_chained.draw())\n",
    "print(F(phi)(1.0))  "
   ]
  },
  {
   "cell_type": "code",
   "execution_count": null,
   "metadata": {},
   "outputs": [
    {
     "data": {
      "image/png": "[encoded data removed]",
      "text/plain": [
       "<Figure size 400x800 with 1 Axes>"
      ]
     },
     "metadata": {},
     "output_type": "display_data"
    }
   ],
   "source": [
    "from discopy import monoidal, python\n",
    "from discopy.cat import factory, Category\n",
    "\n",
    "@factory  # Ensure that composition of circuits remains a circuit.\n",
    "class Circuit(monoidal.Diagram):\n",
    "    ty_factory = monoidal.PRO  # Use natural numbers as objects.\n",
    "\n",
    "    def __call__(self, *bits):\n",
    "        F = monoidal.Functor(\n",
    "            ob=lambda _: bool, ar=lambda f: f.data,\n",
    "            cod=Category(python.Ty, python.Function))\n",
    "        return F(self)(*bits)\n",
    "\n",
    "class Gate(monoidal.Box, Circuit):\n",
    "    \"\"\"A gate is just a box in a circuit with a function as data.\"\"\"\n",
    "\n",
    "NAND = Gate(\"NAND\", 2, 1, data=lambda x, y: not (x and y))\n",
    "COPY = Gate(\"COPY\", 1, 2, data=lambda x: (x, x))\n",
    "\n",
    "XOR = COPY @ COPY >> 1 @ (NAND >> COPY) @ 1 >> NAND @ NAND >> NAND\n",
    "CNOT = COPY @ 1 >> 1 @ XOR\n",
    "NOTC = 1 @ COPY >> XOR @ 1\n",
    "SWAP = CNOT >> NOTC >> CNOT  # Exercise: Find a cheaper SWAP circuit!\n",
    "\n",
    "assert all(SWAP(x, y) == (y, x) for x in [True, False]\n",
    "                                for y in [True, False])\n",
    "\n",
    "SWAP.draw(figsize=(4, 8), wire_labels=False)"
   ]
  },
  {
   "cell_type": "code",
   "execution_count": null,
   "metadata": {},
   "outputs": [
    {
     "name": "stdout",
     "output_type": "stream",
     "text": [
      "\u001b[0;31mInit signature:\u001b[0m \u001b[0mBox\u001b[0m\u001b[0;34m(\u001b[0m\u001b[0mname\u001b[0m\u001b[0;34m:\u001b[0m \u001b[0;34m'str'\u001b[0m\u001b[0;34m,\u001b[0m \u001b[0mdom\u001b[0m\u001b[0;34m:\u001b[0m \u001b[0;34m'Ty'\u001b[0m\u001b[0;34m,\u001b[0m \u001b[0mcod\u001b[0m\u001b[0;34m:\u001b[0m \u001b[0;34m'Ty'\u001b[0m\u001b[0;34m,\u001b[0m \u001b[0;34m**\u001b[0m\u001b[0mparams\u001b[0m\u001b[0;34m)\u001b[0m\u001b[0;34m\u001b[0m\u001b[0;34m\u001b[0m\u001b[0m\n",
      "\u001b[0;31mDocstring:\u001b[0m     \n",
      "A box is a diagram with a :code:`name` and the layer of just itself inside.\n",
      "\n",
      "Parameters:\n",
      "    name : The name of the box.\n",
      "    dom : The domain of the box, i.e. the input.\n",
      "    cod : The codomain of the box, i.e. the output.\n",
      "    data (any) : Extra data in the box, default is :code:`None`.\n",
      "    is_dagger (bool, optional) : Whether the box is dagger.\n",
      "\n",
      "Other parameters\n",
      "----------------\n",
      "\n",
      "draw_as_spider : bool, optional\n",
      "    Whether to draw the box as a spider.\n",
      "draw_as_wires : bool, optional\n",
      "    Whether to draw the box as wires, e.g. :class:`discopy.symmetric.Swap`.\n",
      "draw_as_braid : bool, optional\n",
      "    Whether to draw the box as a a braid, e.g. :class:`braided.Braid`.\n",
      "drawing_name : str, optional\n",
      "    The name to use when drawing the box.\n",
      "tikzstyle_name : str, optional\n",
      "    The name of the style when tikzing the box.\n",
      "color : str, optional\n",
      "    The color to use when drawing the box, one of\n",
      "    :code:`\"white\", \"red\", \"green\", \"blue\", \"yellow\", \"black\"`.\n",
      "    Default is :code:`\"red\" if draw_as_spider else \"white\"`.\n",
      "shape : str, optional\n",
      "    The shape to use when drawing a spider,\n",
      "    one of :code:`\"circle\", \"rectangle\"`.\n",
      "\n",
      "Examples\n",
      "--------\n",
      ">>> f = Box('f', Ty('x', 'y'), Ty('z'))\n",
      ">>> assert Id(Ty('x', 'y')) >> f == f == f >> Id(Ty('z'))\n",
      ">>> assert Id(Ty()) @ f == f == f @ Id(Ty())\n",
      ">>> assert f == f[::-1][::-1]\n",
      "\u001b[0;31mFile:\u001b[0m           /opt/miniconda3/envs/blr/lib/python3.12/site-packages/discopy/monoidal.py\n",
      "\u001b[0;31mType:\u001b[0m           ABCMeta\n",
      "\u001b[0;31mSubclasses:\u001b[0m     Sum, Bubble, Box, Box, Box, Rule, Gate"
     ]
    }
   ],
   "source": [
    "?Box"
   ]
  },
  {
   "cell_type": "code",
   "execution_count": 24,
   "metadata": {},
   "outputs": [
    {
     "name": "stdout",
     "output_type": "stream",
     "text": [
      "1 R R\n",
      "Direct call to sum_model.log_prob_channel(1): functools.partial(<function sum_func at 0x171eb9620>, 1)\n",
      "sum_box.inside: (monoidal.Layer(monoidal.Ty(), markov.Box('sum', monoidal.Ty(cat.Ob('R')), monoidal.Ty(cat.Ob('R')), data=<function <lambda> at 0x30a8d6340>), monoidal.Ty()),)\n",
      "F(phi)(1.0): functools.partial(<function sum_func at 0x171eb9620>, 1.0)\n"
     ]
    },
    {
     "ename": "TypeError",
     "evalue": "Diagram.__init__() missing 2 required positional arguments: 'dom' and 'cod'",
     "output_type": "error",
     "traceback": [
      "\u001b[0;31m---------------------------------------------------------------------------\u001b[0m",
      "\u001b[0;31mTypeError\u001b[0m                                 Traceback (most recent call last)",
      "Cell \u001b[0;32mIn[24], line 71\u001b[0m\n\u001b[1;32m     67\u001b[0m \u001b[38;5;28mprint\u001b[39m(\u001b[38;5;124m\"\u001b[39m\u001b[38;5;124mF(phi)(1.0):\u001b[39m\u001b[38;5;124m\"\u001b[39m, F(phi)(\u001b[38;5;241m1.0\u001b[39m))\n\u001b[1;32m     69\u001b[0m \u001b[38;5;66;03m# Now, demonstrate the Circuit class.\u001b[39;00m\n\u001b[1;32m     70\u001b[0m \u001b[38;5;66;03m# For instance, suppose we have a diagram (here, we reuse sum_box as a simple arrow).\u001b[39;00m\n\u001b[0;32m---> 71\u001b[0m circ \u001b[38;5;241m=\u001b[39m \u001b[43mCircuit\u001b[49m\u001b[43m(\u001b[49m\u001b[43msum_box\u001b[49m\u001b[43m)\u001b[49m  \u001b[38;5;66;03m# Create a Circuit with sum_box.\u001b[39;00m\n\u001b[1;32m     72\u001b[0m \u001b[38;5;66;03m# When we call circ(1.0), the functor inside __call__ will look for f.data.\u001b[39;00m\n\u001b[1;32m     73\u001b[0m \u001b[38;5;66;03m# If sum_box has no data, it will simply return sum_box.\u001b[39;00m\n\u001b[1;32m     74\u001b[0m \u001b[38;5;28mprint\u001b[39m(\u001b[38;5;124m\"\u001b[39m\u001b[38;5;124mCircuit output:\u001b[39m\u001b[38;5;124m\"\u001b[39m, circ(\u001b[38;5;241m1.0\u001b[39m))\n",
      "\u001b[0;31mTypeError\u001b[0m: Diagram.__init__() missing 2 required positional arguments: 'dom' and 'cod'"
     ]
    }
   ],
   "source": [
    "from discopy.monoidal import Diagram, PRO, Functor\n",
    "from discopy.cat import Category\n",
    "from discopy import python\n",
    "\n",
    "# Define a new Circuit class as a monoidal diagram.\n",
    "class Circuit(Diagram):\n",
    "    # Use natural numbers as objects.\n",
    "    ty_factory = PRO\n",
    "\n",
    "    def __call__(self, *bits):\n",
    "        # Create a functor mapping objects to bool and arrows to functions.\n",
    "        # For each arrow f, if f.data is not None, use it; otherwise, return f.\n",
    "        F = Functor(\n",
    "            ob=lambda _: bool,\n",
    "            ar=lambda f: f.data if getattr(f, \"data\", None) is not None else f,\n",
    "            cod=Category(python.Ty, python.Function)\n",
    "        )\n",
    "        # Apply the functor to self and then call the resulting function on *bits.\n",
    "        return F(self)(*bits)\n",
    "\n",
    "# ---------------------------\n",
    "# For demonstration, we re-use your existing definitions.\n",
    "\n",
    "# from discopy.traced import Ty, Box, Category, Functor as TracedFunctor, Copy\n",
    "from discopy.markov import Ty as M_Ty\n",
    "from stat_games.open_model import OpenModel\n",
    "from functools import partial\n",
    "\n",
    "def sum_func(x, y):\n",
    "    print(\"sum_func received:\", y)\n",
    "    return x + y\n",
    "\n",
    "channelized_sum = lambda x: partial(sum_func, x)\n",
    "R = Ty('R')\n",
    "sum_model = OpenModel(dom=R, cod=R, log_prob_channel=channelized_sum, channel_name=\"sum\")\n",
    "chaining_sums = sum_model >> sum_model\n",
    "print(\"Direct call to sum_model.log_prob_channel(1):\", sum_model.log_prob_channel(1))\n",
    "\n",
    "x = Ty('R')\n",
    "sum_box = sum_model.box_channel\n",
    "sum_function = sum_model.log_prob_channel\n",
    "# Create a Copy arrow (here with 2 copies) using the traced version.\n",
    "copy_arrow = Copy(x, 2)\n",
    "\n",
    "# Helper: function that returns a function duplicating its input n times.\n",
    "def copy_n(n: int):\n",
    "    return lambda x: (x,) * n\n",
    "\n",
    "# Our generic functor that automatically handles Copy arrows.\n",
    "class MyFunctor(TracedFunctor):\n",
    "    def on_arrow(self, arrow):\n",
    "        if isinstance(arrow, Copy):\n",
    "            return copy_n(len(arrow.cod))  # len(arrow.cod) gives the number of copies.\n",
    "        if arrow in self.ar:\n",
    "            return self.ar[arrow]\n",
    "        return super().on_arrow(arrow)\n",
    "\n",
    "# Create our functor mapping.\n",
    "F = MyFunctor(\n",
    "    ob={x: (float,)},\n",
    "    ar={sum_box: sum_function},  # No need to manually add Copy arrows.\n",
    "    cod=Category(python.Ty, python.Function)\n",
    ")\n",
    "\n",
    "phi = sum_box\n",
    "print(\"sum_box.inside:\", sum_box.inside)\n",
    "print(\"F(phi)(1.0):\", F(phi)(1.0))\n",
    "\n",
    "# Now, demonstrate the Circuit class.\n",
    "# For instance, suppose we have a diagram (here, we reuse sum_box as a simple arrow).\n",
    "circ = Circuit(sum_box)  # Create a Circuit with sum_box.\n",
    "# When we call circ(1.0), the functor inside __call__ will look for f.data.\n",
    "# If sum_box has no data, it will simply return sum_box.\n",
    "print(\"Circuit output:\", circ(1.0))\n"
   ]
  }
 ],
 "metadata": {
  "kernelspec": {
   "display_name": "blr",
   "language": "python",
   "name": "python3"
  },
  "language_info": {
   "codemirror_mode": {
    "name": "ipython",
    "version": 3
   },
   "file_extension": ".py",
   "mimetype": "text/x-python",
   "name": "python",
   "nbconvert_exporter": "python",
   "pygments_lexer": "ipython3",
   "version": "3.12.6"
  }
 },
 "nbformat": 4,
 "nbformat_minor": 2
}
